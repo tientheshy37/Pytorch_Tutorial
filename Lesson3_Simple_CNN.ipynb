{
  "nbformat": 4,
  "nbformat_minor": 0,
  "metadata": {
    "colab": {
      "name": "Lesson3: Simple CNN.ipynb",
      "provenance": [],
      "collapsed_sections": []
    },
    "kernelspec": {
      "name": "python3",
      "display_name": "Python 3"
    },
    "language_info": {
      "name": "python"
    },
    "accelerator": "GPU",
    "widgets": {
      "application/vnd.jupyter.widget-state+json": {
        "9692f500c1c944cba12aca7f068cfc09": {
          "model_module": "@jupyter-widgets/controls",
          "model_name": "HBoxModel",
          "model_module_version": "1.5.0",
          "state": {
            "_view_name": "HBoxView",
            "_dom_classes": [],
            "_model_name": "HBoxModel",
            "_view_module": "@jupyter-widgets/controls",
            "_model_module_version": "1.5.0",
            "_view_count": null,
            "_view_module_version": "1.5.0",
            "box_style": "",
            "layout": "IPY_MODEL_ebf1e92a8b554080baa0c2ccfd3b9247",
            "_model_module": "@jupyter-widgets/controls",
            "children": [
              "IPY_MODEL_9830de55b73f486fafa16e1b034b894e",
              "IPY_MODEL_dc3db65dbbdb460980dae0d01b55d42d",
              "IPY_MODEL_eefbdeff6b454f438a0b3f431cca5aa0"
            ]
          }
        },
        "ebf1e92a8b554080baa0c2ccfd3b9247": {
          "model_module": "@jupyter-widgets/base",
          "model_name": "LayoutModel",
          "model_module_version": "1.2.0",
          "state": {
            "_view_name": "LayoutView",
            "grid_template_rows": null,
            "right": null,
            "justify_content": null,
            "_view_module": "@jupyter-widgets/base",
            "overflow": null,
            "_model_module_version": "1.2.0",
            "_view_count": null,
            "flex_flow": null,
            "width": null,
            "min_width": null,
            "border": null,
            "align_items": null,
            "bottom": null,
            "_model_module": "@jupyter-widgets/base",
            "top": null,
            "grid_column": null,
            "overflow_y": null,
            "overflow_x": null,
            "grid_auto_flow": null,
            "grid_area": null,
            "grid_template_columns": null,
            "flex": null,
            "_model_name": "LayoutModel",
            "justify_items": null,
            "grid_row": null,
            "max_height": null,
            "align_content": null,
            "visibility": null,
            "align_self": null,
            "height": null,
            "min_height": null,
            "padding": null,
            "grid_auto_rows": null,
            "grid_gap": null,
            "max_width": null,
            "order": null,
            "_view_module_version": "1.2.0",
            "grid_template_areas": null,
            "object_position": null,
            "object_fit": null,
            "grid_auto_columns": null,
            "margin": null,
            "display": null,
            "left": null
          }
        },
        "9830de55b73f486fafa16e1b034b894e": {
          "model_module": "@jupyter-widgets/controls",
          "model_name": "HTMLModel",
          "model_module_version": "1.5.0",
          "state": {
            "_view_name": "HTMLView",
            "style": "IPY_MODEL_682d22b911d54b5088df4a57cbf81bc0",
            "_dom_classes": [],
            "description": "",
            "_model_name": "HTMLModel",
            "placeholder": "​",
            "_view_module": "@jupyter-widgets/controls",
            "_model_module_version": "1.5.0",
            "value": "",
            "_view_count": null,
            "_view_module_version": "1.5.0",
            "description_tooltip": null,
            "_model_module": "@jupyter-widgets/controls",
            "layout": "IPY_MODEL_2b99e2b093a9483a88bd4f17c425617e"
          }
        },
        "dc3db65dbbdb460980dae0d01b55d42d": {
          "model_module": "@jupyter-widgets/controls",
          "model_name": "FloatProgressModel",
          "model_module_version": "1.5.0",
          "state": {
            "_view_name": "ProgressView",
            "style": "IPY_MODEL_905bfea16ee24075929a513b3db1ad1d",
            "_dom_classes": [],
            "description": "",
            "_model_name": "FloatProgressModel",
            "bar_style": "success",
            "max": 9912422,
            "_view_module": "@jupyter-widgets/controls",
            "_model_module_version": "1.5.0",
            "value": 9912422,
            "_view_count": null,
            "_view_module_version": "1.5.0",
            "orientation": "horizontal",
            "min": 0,
            "description_tooltip": null,
            "_model_module": "@jupyter-widgets/controls",
            "layout": "IPY_MODEL_fdc095cb66da45478327b672dfb8029b"
          }
        },
        "eefbdeff6b454f438a0b3f431cca5aa0": {
          "model_module": "@jupyter-widgets/controls",
          "model_name": "HTMLModel",
          "model_module_version": "1.5.0",
          "state": {
            "_view_name": "HTMLView",
            "style": "IPY_MODEL_8be44bf8c28d4e9e9eabe18b59ed6230",
            "_dom_classes": [],
            "description": "",
            "_model_name": "HTMLModel",
            "placeholder": "​",
            "_view_module": "@jupyter-widgets/controls",
            "_model_module_version": "1.5.0",
            "value": " 9913344/? [00:00&lt;00:00, 42273133.37it/s]",
            "_view_count": null,
            "_view_module_version": "1.5.0",
            "description_tooltip": null,
            "_model_module": "@jupyter-widgets/controls",
            "layout": "IPY_MODEL_5c56218cfd0b4f28864c0ab5a4c1873b"
          }
        },
        "682d22b911d54b5088df4a57cbf81bc0": {
          "model_module": "@jupyter-widgets/controls",
          "model_name": "DescriptionStyleModel",
          "model_module_version": "1.5.0",
          "state": {
            "_view_name": "StyleView",
            "_model_name": "DescriptionStyleModel",
            "description_width": "",
            "_view_module": "@jupyter-widgets/base",
            "_model_module_version": "1.5.0",
            "_view_count": null,
            "_view_module_version": "1.2.0",
            "_model_module": "@jupyter-widgets/controls"
          }
        },
        "2b99e2b093a9483a88bd4f17c425617e": {
          "model_module": "@jupyter-widgets/base",
          "model_name": "LayoutModel",
          "model_module_version": "1.2.0",
          "state": {
            "_view_name": "LayoutView",
            "grid_template_rows": null,
            "right": null,
            "justify_content": null,
            "_view_module": "@jupyter-widgets/base",
            "overflow": null,
            "_model_module_version": "1.2.0",
            "_view_count": null,
            "flex_flow": null,
            "width": null,
            "min_width": null,
            "border": null,
            "align_items": null,
            "bottom": null,
            "_model_module": "@jupyter-widgets/base",
            "top": null,
            "grid_column": null,
            "overflow_y": null,
            "overflow_x": null,
            "grid_auto_flow": null,
            "grid_area": null,
            "grid_template_columns": null,
            "flex": null,
            "_model_name": "LayoutModel",
            "justify_items": null,
            "grid_row": null,
            "max_height": null,
            "align_content": null,
            "visibility": null,
            "align_self": null,
            "height": null,
            "min_height": null,
            "padding": null,
            "grid_auto_rows": null,
            "grid_gap": null,
            "max_width": null,
            "order": null,
            "_view_module_version": "1.2.0",
            "grid_template_areas": null,
            "object_position": null,
            "object_fit": null,
            "grid_auto_columns": null,
            "margin": null,
            "display": null,
            "left": null
          }
        },
        "905bfea16ee24075929a513b3db1ad1d": {
          "model_module": "@jupyter-widgets/controls",
          "model_name": "ProgressStyleModel",
          "model_module_version": "1.5.0",
          "state": {
            "_view_name": "StyleView",
            "_model_name": "ProgressStyleModel",
            "description_width": "",
            "_view_module": "@jupyter-widgets/base",
            "_model_module_version": "1.5.0",
            "_view_count": null,
            "_view_module_version": "1.2.0",
            "bar_color": null,
            "_model_module": "@jupyter-widgets/controls"
          }
        },
        "fdc095cb66da45478327b672dfb8029b": {
          "model_module": "@jupyter-widgets/base",
          "model_name": "LayoutModel",
          "model_module_version": "1.2.0",
          "state": {
            "_view_name": "LayoutView",
            "grid_template_rows": null,
            "right": null,
            "justify_content": null,
            "_view_module": "@jupyter-widgets/base",
            "overflow": null,
            "_model_module_version": "1.2.0",
            "_view_count": null,
            "flex_flow": null,
            "width": null,
            "min_width": null,
            "border": null,
            "align_items": null,
            "bottom": null,
            "_model_module": "@jupyter-widgets/base",
            "top": null,
            "grid_column": null,
            "overflow_y": null,
            "overflow_x": null,
            "grid_auto_flow": null,
            "grid_area": null,
            "grid_template_columns": null,
            "flex": null,
            "_model_name": "LayoutModel",
            "justify_items": null,
            "grid_row": null,
            "max_height": null,
            "align_content": null,
            "visibility": null,
            "align_self": null,
            "height": null,
            "min_height": null,
            "padding": null,
            "grid_auto_rows": null,
            "grid_gap": null,
            "max_width": null,
            "order": null,
            "_view_module_version": "1.2.0",
            "grid_template_areas": null,
            "object_position": null,
            "object_fit": null,
            "grid_auto_columns": null,
            "margin": null,
            "display": null,
            "left": null
          }
        },
        "8be44bf8c28d4e9e9eabe18b59ed6230": {
          "model_module": "@jupyter-widgets/controls",
          "model_name": "DescriptionStyleModel",
          "model_module_version": "1.5.0",
          "state": {
            "_view_name": "StyleView",
            "_model_name": "DescriptionStyleModel",
            "description_width": "",
            "_view_module": "@jupyter-widgets/base",
            "_model_module_version": "1.5.0",
            "_view_count": null,
            "_view_module_version": "1.2.0",
            "_model_module": "@jupyter-widgets/controls"
          }
        },
        "5c56218cfd0b4f28864c0ab5a4c1873b": {
          "model_module": "@jupyter-widgets/base",
          "model_name": "LayoutModel",
          "model_module_version": "1.2.0",
          "state": {
            "_view_name": "LayoutView",
            "grid_template_rows": null,
            "right": null,
            "justify_content": null,
            "_view_module": "@jupyter-widgets/base",
            "overflow": null,
            "_model_module_version": "1.2.0",
            "_view_count": null,
            "flex_flow": null,
            "width": null,
            "min_width": null,
            "border": null,
            "align_items": null,
            "bottom": null,
            "_model_module": "@jupyter-widgets/base",
            "top": null,
            "grid_column": null,
            "overflow_y": null,
            "overflow_x": null,
            "grid_auto_flow": null,
            "grid_area": null,
            "grid_template_columns": null,
            "flex": null,
            "_model_name": "LayoutModel",
            "justify_items": null,
            "grid_row": null,
            "max_height": null,
            "align_content": null,
            "visibility": null,
            "align_self": null,
            "height": null,
            "min_height": null,
            "padding": null,
            "grid_auto_rows": null,
            "grid_gap": null,
            "max_width": null,
            "order": null,
            "_view_module_version": "1.2.0",
            "grid_template_areas": null,
            "object_position": null,
            "object_fit": null,
            "grid_auto_columns": null,
            "margin": null,
            "display": null,
            "left": null
          }
        },
        "a8281c7abd5b421280db431b6b96bcd1": {
          "model_module": "@jupyter-widgets/controls",
          "model_name": "HBoxModel",
          "model_module_version": "1.5.0",
          "state": {
            "_view_name": "HBoxView",
            "_dom_classes": [],
            "_model_name": "HBoxModel",
            "_view_module": "@jupyter-widgets/controls",
            "_model_module_version": "1.5.0",
            "_view_count": null,
            "_view_module_version": "1.5.0",
            "box_style": "",
            "layout": "IPY_MODEL_ed2a3d86064b4d9684edd60e8a2df08a",
            "_model_module": "@jupyter-widgets/controls",
            "children": [
              "IPY_MODEL_9fea61c1f7b64d28a14328477e7648b5",
              "IPY_MODEL_1d72ec0a01674285a7dfee50139012d9",
              "IPY_MODEL_d32ac482b2944974a6c961ad317ad505"
            ]
          }
        },
        "ed2a3d86064b4d9684edd60e8a2df08a": {
          "model_module": "@jupyter-widgets/base",
          "model_name": "LayoutModel",
          "model_module_version": "1.2.0",
          "state": {
            "_view_name": "LayoutView",
            "grid_template_rows": null,
            "right": null,
            "justify_content": null,
            "_view_module": "@jupyter-widgets/base",
            "overflow": null,
            "_model_module_version": "1.2.0",
            "_view_count": null,
            "flex_flow": null,
            "width": null,
            "min_width": null,
            "border": null,
            "align_items": null,
            "bottom": null,
            "_model_module": "@jupyter-widgets/base",
            "top": null,
            "grid_column": null,
            "overflow_y": null,
            "overflow_x": null,
            "grid_auto_flow": null,
            "grid_area": null,
            "grid_template_columns": null,
            "flex": null,
            "_model_name": "LayoutModel",
            "justify_items": null,
            "grid_row": null,
            "max_height": null,
            "align_content": null,
            "visibility": null,
            "align_self": null,
            "height": null,
            "min_height": null,
            "padding": null,
            "grid_auto_rows": null,
            "grid_gap": null,
            "max_width": null,
            "order": null,
            "_view_module_version": "1.2.0",
            "grid_template_areas": null,
            "object_position": null,
            "object_fit": null,
            "grid_auto_columns": null,
            "margin": null,
            "display": null,
            "left": null
          }
        },
        "9fea61c1f7b64d28a14328477e7648b5": {
          "model_module": "@jupyter-widgets/controls",
          "model_name": "HTMLModel",
          "model_module_version": "1.5.0",
          "state": {
            "_view_name": "HTMLView",
            "style": "IPY_MODEL_657530529f1548e682ca72148c71cd79",
            "_dom_classes": [],
            "description": "",
            "_model_name": "HTMLModel",
            "placeholder": "​",
            "_view_module": "@jupyter-widgets/controls",
            "_model_module_version": "1.5.0",
            "value": "",
            "_view_count": null,
            "_view_module_version": "1.5.0",
            "description_tooltip": null,
            "_model_module": "@jupyter-widgets/controls",
            "layout": "IPY_MODEL_0018772c9c7641dfb25f72e086fb7a8e"
          }
        },
        "1d72ec0a01674285a7dfee50139012d9": {
          "model_module": "@jupyter-widgets/controls",
          "model_name": "FloatProgressModel",
          "model_module_version": "1.5.0",
          "state": {
            "_view_name": "ProgressView",
            "style": "IPY_MODEL_2f0a7c78b0ce45c5a50128787a77aa2c",
            "_dom_classes": [],
            "description": "",
            "_model_name": "FloatProgressModel",
            "bar_style": "success",
            "max": 28881,
            "_view_module": "@jupyter-widgets/controls",
            "_model_module_version": "1.5.0",
            "value": 28881,
            "_view_count": null,
            "_view_module_version": "1.5.0",
            "orientation": "horizontal",
            "min": 0,
            "description_tooltip": null,
            "_model_module": "@jupyter-widgets/controls",
            "layout": "IPY_MODEL_e28493cf275e48afa1545a89ce93b760"
          }
        },
        "d32ac482b2944974a6c961ad317ad505": {
          "model_module": "@jupyter-widgets/controls",
          "model_name": "HTMLModel",
          "model_module_version": "1.5.0",
          "state": {
            "_view_name": "HTMLView",
            "style": "IPY_MODEL_b3f975b60fef43beb42914bd77a8ffe2",
            "_dom_classes": [],
            "description": "",
            "_model_name": "HTMLModel",
            "placeholder": "​",
            "_view_module": "@jupyter-widgets/controls",
            "_model_module_version": "1.5.0",
            "value": " 29696/? [00:00&lt;00:00, 659337.09it/s]",
            "_view_count": null,
            "_view_module_version": "1.5.0",
            "description_tooltip": null,
            "_model_module": "@jupyter-widgets/controls",
            "layout": "IPY_MODEL_039f9e2df8c642058e91b212b3962bc5"
          }
        },
        "657530529f1548e682ca72148c71cd79": {
          "model_module": "@jupyter-widgets/controls",
          "model_name": "DescriptionStyleModel",
          "model_module_version": "1.5.0",
          "state": {
            "_view_name": "StyleView",
            "_model_name": "DescriptionStyleModel",
            "description_width": "",
            "_view_module": "@jupyter-widgets/base",
            "_model_module_version": "1.5.0",
            "_view_count": null,
            "_view_module_version": "1.2.0",
            "_model_module": "@jupyter-widgets/controls"
          }
        },
        "0018772c9c7641dfb25f72e086fb7a8e": {
          "model_module": "@jupyter-widgets/base",
          "model_name": "LayoutModel",
          "model_module_version": "1.2.0",
          "state": {
            "_view_name": "LayoutView",
            "grid_template_rows": null,
            "right": null,
            "justify_content": null,
            "_view_module": "@jupyter-widgets/base",
            "overflow": null,
            "_model_module_version": "1.2.0",
            "_view_count": null,
            "flex_flow": null,
            "width": null,
            "min_width": null,
            "border": null,
            "align_items": null,
            "bottom": null,
            "_model_module": "@jupyter-widgets/base",
            "top": null,
            "grid_column": null,
            "overflow_y": null,
            "overflow_x": null,
            "grid_auto_flow": null,
            "grid_area": null,
            "grid_template_columns": null,
            "flex": null,
            "_model_name": "LayoutModel",
            "justify_items": null,
            "grid_row": null,
            "max_height": null,
            "align_content": null,
            "visibility": null,
            "align_self": null,
            "height": null,
            "min_height": null,
            "padding": null,
            "grid_auto_rows": null,
            "grid_gap": null,
            "max_width": null,
            "order": null,
            "_view_module_version": "1.2.0",
            "grid_template_areas": null,
            "object_position": null,
            "object_fit": null,
            "grid_auto_columns": null,
            "margin": null,
            "display": null,
            "left": null
          }
        },
        "2f0a7c78b0ce45c5a50128787a77aa2c": {
          "model_module": "@jupyter-widgets/controls",
          "model_name": "ProgressStyleModel",
          "model_module_version": "1.5.0",
          "state": {
            "_view_name": "StyleView",
            "_model_name": "ProgressStyleModel",
            "description_width": "",
            "_view_module": "@jupyter-widgets/base",
            "_model_module_version": "1.5.0",
            "_view_count": null,
            "_view_module_version": "1.2.0",
            "bar_color": null,
            "_model_module": "@jupyter-widgets/controls"
          }
        },
        "e28493cf275e48afa1545a89ce93b760": {
          "model_module": "@jupyter-widgets/base",
          "model_name": "LayoutModel",
          "model_module_version": "1.2.0",
          "state": {
            "_view_name": "LayoutView",
            "grid_template_rows": null,
            "right": null,
            "justify_content": null,
            "_view_module": "@jupyter-widgets/base",
            "overflow": null,
            "_model_module_version": "1.2.0",
            "_view_count": null,
            "flex_flow": null,
            "width": null,
            "min_width": null,
            "border": null,
            "align_items": null,
            "bottom": null,
            "_model_module": "@jupyter-widgets/base",
            "top": null,
            "grid_column": null,
            "overflow_y": null,
            "overflow_x": null,
            "grid_auto_flow": null,
            "grid_area": null,
            "grid_template_columns": null,
            "flex": null,
            "_model_name": "LayoutModel",
            "justify_items": null,
            "grid_row": null,
            "max_height": null,
            "align_content": null,
            "visibility": null,
            "align_self": null,
            "height": null,
            "min_height": null,
            "padding": null,
            "grid_auto_rows": null,
            "grid_gap": null,
            "max_width": null,
            "order": null,
            "_view_module_version": "1.2.0",
            "grid_template_areas": null,
            "object_position": null,
            "object_fit": null,
            "grid_auto_columns": null,
            "margin": null,
            "display": null,
            "left": null
          }
        },
        "b3f975b60fef43beb42914bd77a8ffe2": {
          "model_module": "@jupyter-widgets/controls",
          "model_name": "DescriptionStyleModel",
          "model_module_version": "1.5.0",
          "state": {
            "_view_name": "StyleView",
            "_model_name": "DescriptionStyleModel",
            "description_width": "",
            "_view_module": "@jupyter-widgets/base",
            "_model_module_version": "1.5.0",
            "_view_count": null,
            "_view_module_version": "1.2.0",
            "_model_module": "@jupyter-widgets/controls"
          }
        },
        "039f9e2df8c642058e91b212b3962bc5": {
          "model_module": "@jupyter-widgets/base",
          "model_name": "LayoutModel",
          "model_module_version": "1.2.0",
          "state": {
            "_view_name": "LayoutView",
            "grid_template_rows": null,
            "right": null,
            "justify_content": null,
            "_view_module": "@jupyter-widgets/base",
            "overflow": null,
            "_model_module_version": "1.2.0",
            "_view_count": null,
            "flex_flow": null,
            "width": null,
            "min_width": null,
            "border": null,
            "align_items": null,
            "bottom": null,
            "_model_module": "@jupyter-widgets/base",
            "top": null,
            "grid_column": null,
            "overflow_y": null,
            "overflow_x": null,
            "grid_auto_flow": null,
            "grid_area": null,
            "grid_template_columns": null,
            "flex": null,
            "_model_name": "LayoutModel",
            "justify_items": null,
            "grid_row": null,
            "max_height": null,
            "align_content": null,
            "visibility": null,
            "align_self": null,
            "height": null,
            "min_height": null,
            "padding": null,
            "grid_auto_rows": null,
            "grid_gap": null,
            "max_width": null,
            "order": null,
            "_view_module_version": "1.2.0",
            "grid_template_areas": null,
            "object_position": null,
            "object_fit": null,
            "grid_auto_columns": null,
            "margin": null,
            "display": null,
            "left": null
          }
        },
        "3cc84db9cd554885b439c5eb3dd08dac": {
          "model_module": "@jupyter-widgets/controls",
          "model_name": "HBoxModel",
          "model_module_version": "1.5.0",
          "state": {
            "_view_name": "HBoxView",
            "_dom_classes": [],
            "_model_name": "HBoxModel",
            "_view_module": "@jupyter-widgets/controls",
            "_model_module_version": "1.5.0",
            "_view_count": null,
            "_view_module_version": "1.5.0",
            "box_style": "",
            "layout": "IPY_MODEL_7307e27f142f4d369e389cd24b02dbe9",
            "_model_module": "@jupyter-widgets/controls",
            "children": [
              "IPY_MODEL_2786c3eaeed24403b4c62da3fba57dbe",
              "IPY_MODEL_62212223f00b4bed92e794c90f067414",
              "IPY_MODEL_cf7f6d5909d9472b8c4c15bee92ecbb9"
            ]
          }
        },
        "7307e27f142f4d369e389cd24b02dbe9": {
          "model_module": "@jupyter-widgets/base",
          "model_name": "LayoutModel",
          "model_module_version": "1.2.0",
          "state": {
            "_view_name": "LayoutView",
            "grid_template_rows": null,
            "right": null,
            "justify_content": null,
            "_view_module": "@jupyter-widgets/base",
            "overflow": null,
            "_model_module_version": "1.2.0",
            "_view_count": null,
            "flex_flow": null,
            "width": null,
            "min_width": null,
            "border": null,
            "align_items": null,
            "bottom": null,
            "_model_module": "@jupyter-widgets/base",
            "top": null,
            "grid_column": null,
            "overflow_y": null,
            "overflow_x": null,
            "grid_auto_flow": null,
            "grid_area": null,
            "grid_template_columns": null,
            "flex": null,
            "_model_name": "LayoutModel",
            "justify_items": null,
            "grid_row": null,
            "max_height": null,
            "align_content": null,
            "visibility": null,
            "align_self": null,
            "height": null,
            "min_height": null,
            "padding": null,
            "grid_auto_rows": null,
            "grid_gap": null,
            "max_width": null,
            "order": null,
            "_view_module_version": "1.2.0",
            "grid_template_areas": null,
            "object_position": null,
            "object_fit": null,
            "grid_auto_columns": null,
            "margin": null,
            "display": null,
            "left": null
          }
        },
        "2786c3eaeed24403b4c62da3fba57dbe": {
          "model_module": "@jupyter-widgets/controls",
          "model_name": "HTMLModel",
          "model_module_version": "1.5.0",
          "state": {
            "_view_name": "HTMLView",
            "style": "IPY_MODEL_0e6953ba1def440e9fde0924a0baa75f",
            "_dom_classes": [],
            "description": "",
            "_model_name": "HTMLModel",
            "placeholder": "​",
            "_view_module": "@jupyter-widgets/controls",
            "_model_module_version": "1.5.0",
            "value": "",
            "_view_count": null,
            "_view_module_version": "1.5.0",
            "description_tooltip": null,
            "_model_module": "@jupyter-widgets/controls",
            "layout": "IPY_MODEL_4ca3affc239a4a1b83f651f46149afea"
          }
        },
        "62212223f00b4bed92e794c90f067414": {
          "model_module": "@jupyter-widgets/controls",
          "model_name": "FloatProgressModel",
          "model_module_version": "1.5.0",
          "state": {
            "_view_name": "ProgressView",
            "style": "IPY_MODEL_f5b83e521e844469bdf51754e4e619da",
            "_dom_classes": [],
            "description": "",
            "_model_name": "FloatProgressModel",
            "bar_style": "success",
            "max": 1648877,
            "_view_module": "@jupyter-widgets/controls",
            "_model_module_version": "1.5.0",
            "value": 1648877,
            "_view_count": null,
            "_view_module_version": "1.5.0",
            "orientation": "horizontal",
            "min": 0,
            "description_tooltip": null,
            "_model_module": "@jupyter-widgets/controls",
            "layout": "IPY_MODEL_e1f1642b40004e9a8a3673a696e53db9"
          }
        },
        "cf7f6d5909d9472b8c4c15bee92ecbb9": {
          "model_module": "@jupyter-widgets/controls",
          "model_name": "HTMLModel",
          "model_module_version": "1.5.0",
          "state": {
            "_view_name": "HTMLView",
            "style": "IPY_MODEL_a9e1d82b727f4c21b802c59221267adf",
            "_dom_classes": [],
            "description": "",
            "_model_name": "HTMLModel",
            "placeholder": "​",
            "_view_module": "@jupyter-widgets/controls",
            "_model_module_version": "1.5.0",
            "value": " 1649664/? [00:00&lt;00:00, 2498804.37it/s]",
            "_view_count": null,
            "_view_module_version": "1.5.0",
            "description_tooltip": null,
            "_model_module": "@jupyter-widgets/controls",
            "layout": "IPY_MODEL_92b83b502d164a258b0232bf767f978a"
          }
        },
        "0e6953ba1def440e9fde0924a0baa75f": {
          "model_module": "@jupyter-widgets/controls",
          "model_name": "DescriptionStyleModel",
          "model_module_version": "1.5.0",
          "state": {
            "_view_name": "StyleView",
            "_model_name": "DescriptionStyleModel",
            "description_width": "",
            "_view_module": "@jupyter-widgets/base",
            "_model_module_version": "1.5.0",
            "_view_count": null,
            "_view_module_version": "1.2.0",
            "_model_module": "@jupyter-widgets/controls"
          }
        },
        "4ca3affc239a4a1b83f651f46149afea": {
          "model_module": "@jupyter-widgets/base",
          "model_name": "LayoutModel",
          "model_module_version": "1.2.0",
          "state": {
            "_view_name": "LayoutView",
            "grid_template_rows": null,
            "right": null,
            "justify_content": null,
            "_view_module": "@jupyter-widgets/base",
            "overflow": null,
            "_model_module_version": "1.2.0",
            "_view_count": null,
            "flex_flow": null,
            "width": null,
            "min_width": null,
            "border": null,
            "align_items": null,
            "bottom": null,
            "_model_module": "@jupyter-widgets/base",
            "top": null,
            "grid_column": null,
            "overflow_y": null,
            "overflow_x": null,
            "grid_auto_flow": null,
            "grid_area": null,
            "grid_template_columns": null,
            "flex": null,
            "_model_name": "LayoutModel",
            "justify_items": null,
            "grid_row": null,
            "max_height": null,
            "align_content": null,
            "visibility": null,
            "align_self": null,
            "height": null,
            "min_height": null,
            "padding": null,
            "grid_auto_rows": null,
            "grid_gap": null,
            "max_width": null,
            "order": null,
            "_view_module_version": "1.2.0",
            "grid_template_areas": null,
            "object_position": null,
            "object_fit": null,
            "grid_auto_columns": null,
            "margin": null,
            "display": null,
            "left": null
          }
        },
        "f5b83e521e844469bdf51754e4e619da": {
          "model_module": "@jupyter-widgets/controls",
          "model_name": "ProgressStyleModel",
          "model_module_version": "1.5.0",
          "state": {
            "_view_name": "StyleView",
            "_model_name": "ProgressStyleModel",
            "description_width": "",
            "_view_module": "@jupyter-widgets/base",
            "_model_module_version": "1.5.0",
            "_view_count": null,
            "_view_module_version": "1.2.0",
            "bar_color": null,
            "_model_module": "@jupyter-widgets/controls"
          }
        },
        "e1f1642b40004e9a8a3673a696e53db9": {
          "model_module": "@jupyter-widgets/base",
          "model_name": "LayoutModel",
          "model_module_version": "1.2.0",
          "state": {
            "_view_name": "LayoutView",
            "grid_template_rows": null,
            "right": null,
            "justify_content": null,
            "_view_module": "@jupyter-widgets/base",
            "overflow": null,
            "_model_module_version": "1.2.0",
            "_view_count": null,
            "flex_flow": null,
            "width": null,
            "min_width": null,
            "border": null,
            "align_items": null,
            "bottom": null,
            "_model_module": "@jupyter-widgets/base",
            "top": null,
            "grid_column": null,
            "overflow_y": null,
            "overflow_x": null,
            "grid_auto_flow": null,
            "grid_area": null,
            "grid_template_columns": null,
            "flex": null,
            "_model_name": "LayoutModel",
            "justify_items": null,
            "grid_row": null,
            "max_height": null,
            "align_content": null,
            "visibility": null,
            "align_self": null,
            "height": null,
            "min_height": null,
            "padding": null,
            "grid_auto_rows": null,
            "grid_gap": null,
            "max_width": null,
            "order": null,
            "_view_module_version": "1.2.0",
            "grid_template_areas": null,
            "object_position": null,
            "object_fit": null,
            "grid_auto_columns": null,
            "margin": null,
            "display": null,
            "left": null
          }
        },
        "a9e1d82b727f4c21b802c59221267adf": {
          "model_module": "@jupyter-widgets/controls",
          "model_name": "DescriptionStyleModel",
          "model_module_version": "1.5.0",
          "state": {
            "_view_name": "StyleView",
            "_model_name": "DescriptionStyleModel",
            "description_width": "",
            "_view_module": "@jupyter-widgets/base",
            "_model_module_version": "1.5.0",
            "_view_count": null,
            "_view_module_version": "1.2.0",
            "_model_module": "@jupyter-widgets/controls"
          }
        },
        "92b83b502d164a258b0232bf767f978a": {
          "model_module": "@jupyter-widgets/base",
          "model_name": "LayoutModel",
          "model_module_version": "1.2.0",
          "state": {
            "_view_name": "LayoutView",
            "grid_template_rows": null,
            "right": null,
            "justify_content": null,
            "_view_module": "@jupyter-widgets/base",
            "overflow": null,
            "_model_module_version": "1.2.0",
            "_view_count": null,
            "flex_flow": null,
            "width": null,
            "min_width": null,
            "border": null,
            "align_items": null,
            "bottom": null,
            "_model_module": "@jupyter-widgets/base",
            "top": null,
            "grid_column": null,
            "overflow_y": null,
            "overflow_x": null,
            "grid_auto_flow": null,
            "grid_area": null,
            "grid_template_columns": null,
            "flex": null,
            "_model_name": "LayoutModel",
            "justify_items": null,
            "grid_row": null,
            "max_height": null,
            "align_content": null,
            "visibility": null,
            "align_self": null,
            "height": null,
            "min_height": null,
            "padding": null,
            "grid_auto_rows": null,
            "grid_gap": null,
            "max_width": null,
            "order": null,
            "_view_module_version": "1.2.0",
            "grid_template_areas": null,
            "object_position": null,
            "object_fit": null,
            "grid_auto_columns": null,
            "margin": null,
            "display": null,
            "left": null
          }
        },
        "1ebaa871461649a9959200231af20f16": {
          "model_module": "@jupyter-widgets/controls",
          "model_name": "HBoxModel",
          "model_module_version": "1.5.0",
          "state": {
            "_view_name": "HBoxView",
            "_dom_classes": [],
            "_model_name": "HBoxModel",
            "_view_module": "@jupyter-widgets/controls",
            "_model_module_version": "1.5.0",
            "_view_count": null,
            "_view_module_version": "1.5.0",
            "box_style": "",
            "layout": "IPY_MODEL_dd585cdff62b4ddd92ba309bb870d08b",
            "_model_module": "@jupyter-widgets/controls",
            "children": [
              "IPY_MODEL_43aebf88b72c468288a061948bbc9e7a",
              "IPY_MODEL_c3cd05711a0248d5a865b4b5603e2171",
              "IPY_MODEL_dd44d0098f564942a10f1bd843dcc918"
            ]
          }
        },
        "dd585cdff62b4ddd92ba309bb870d08b": {
          "model_module": "@jupyter-widgets/base",
          "model_name": "LayoutModel",
          "model_module_version": "1.2.0",
          "state": {
            "_view_name": "LayoutView",
            "grid_template_rows": null,
            "right": null,
            "justify_content": null,
            "_view_module": "@jupyter-widgets/base",
            "overflow": null,
            "_model_module_version": "1.2.0",
            "_view_count": null,
            "flex_flow": null,
            "width": null,
            "min_width": null,
            "border": null,
            "align_items": null,
            "bottom": null,
            "_model_module": "@jupyter-widgets/base",
            "top": null,
            "grid_column": null,
            "overflow_y": null,
            "overflow_x": null,
            "grid_auto_flow": null,
            "grid_area": null,
            "grid_template_columns": null,
            "flex": null,
            "_model_name": "LayoutModel",
            "justify_items": null,
            "grid_row": null,
            "max_height": null,
            "align_content": null,
            "visibility": null,
            "align_self": null,
            "height": null,
            "min_height": null,
            "padding": null,
            "grid_auto_rows": null,
            "grid_gap": null,
            "max_width": null,
            "order": null,
            "_view_module_version": "1.2.0",
            "grid_template_areas": null,
            "object_position": null,
            "object_fit": null,
            "grid_auto_columns": null,
            "margin": null,
            "display": null,
            "left": null
          }
        },
        "43aebf88b72c468288a061948bbc9e7a": {
          "model_module": "@jupyter-widgets/controls",
          "model_name": "HTMLModel",
          "model_module_version": "1.5.0",
          "state": {
            "_view_name": "HTMLView",
            "style": "IPY_MODEL_afeecefa523e4e1385233ef2de17e8db",
            "_dom_classes": [],
            "description": "",
            "_model_name": "HTMLModel",
            "placeholder": "​",
            "_view_module": "@jupyter-widgets/controls",
            "_model_module_version": "1.5.0",
            "value": "",
            "_view_count": null,
            "_view_module_version": "1.5.0",
            "description_tooltip": null,
            "_model_module": "@jupyter-widgets/controls",
            "layout": "IPY_MODEL_abd45e2247ec459081ddaa5014fe803d"
          }
        },
        "c3cd05711a0248d5a865b4b5603e2171": {
          "model_module": "@jupyter-widgets/controls",
          "model_name": "FloatProgressModel",
          "model_module_version": "1.5.0",
          "state": {
            "_view_name": "ProgressView",
            "style": "IPY_MODEL_ffa6dfbb51de46fbbf313b0cbee61fbb",
            "_dom_classes": [],
            "description": "",
            "_model_name": "FloatProgressModel",
            "bar_style": "success",
            "max": 4542,
            "_view_module": "@jupyter-widgets/controls",
            "_model_module_version": "1.5.0",
            "value": 4542,
            "_view_count": null,
            "_view_module_version": "1.5.0",
            "orientation": "horizontal",
            "min": 0,
            "description_tooltip": null,
            "_model_module": "@jupyter-widgets/controls",
            "layout": "IPY_MODEL_cacca0a07e394831981c986028e9c37c"
          }
        },
        "dd44d0098f564942a10f1bd843dcc918": {
          "model_module": "@jupyter-widgets/controls",
          "model_name": "HTMLModel",
          "model_module_version": "1.5.0",
          "state": {
            "_view_name": "HTMLView",
            "style": "IPY_MODEL_48c42b12eaae4a0092889ac905a6686c",
            "_dom_classes": [],
            "description": "",
            "_model_name": "HTMLModel",
            "placeholder": "​",
            "_view_module": "@jupyter-widgets/controls",
            "_model_module_version": "1.5.0",
            "value": " 5120/? [00:00&lt;00:00, 137059.14it/s]",
            "_view_count": null,
            "_view_module_version": "1.5.0",
            "description_tooltip": null,
            "_model_module": "@jupyter-widgets/controls",
            "layout": "IPY_MODEL_121692a689234b799b8d1fbb6676e8e6"
          }
        },
        "afeecefa523e4e1385233ef2de17e8db": {
          "model_module": "@jupyter-widgets/controls",
          "model_name": "DescriptionStyleModel",
          "model_module_version": "1.5.0",
          "state": {
            "_view_name": "StyleView",
            "_model_name": "DescriptionStyleModel",
            "description_width": "",
            "_view_module": "@jupyter-widgets/base",
            "_model_module_version": "1.5.0",
            "_view_count": null,
            "_view_module_version": "1.2.0",
            "_model_module": "@jupyter-widgets/controls"
          }
        },
        "abd45e2247ec459081ddaa5014fe803d": {
          "model_module": "@jupyter-widgets/base",
          "model_name": "LayoutModel",
          "model_module_version": "1.2.0",
          "state": {
            "_view_name": "LayoutView",
            "grid_template_rows": null,
            "right": null,
            "justify_content": null,
            "_view_module": "@jupyter-widgets/base",
            "overflow": null,
            "_model_module_version": "1.2.0",
            "_view_count": null,
            "flex_flow": null,
            "width": null,
            "min_width": null,
            "border": null,
            "align_items": null,
            "bottom": null,
            "_model_module": "@jupyter-widgets/base",
            "top": null,
            "grid_column": null,
            "overflow_y": null,
            "overflow_x": null,
            "grid_auto_flow": null,
            "grid_area": null,
            "grid_template_columns": null,
            "flex": null,
            "_model_name": "LayoutModel",
            "justify_items": null,
            "grid_row": null,
            "max_height": null,
            "align_content": null,
            "visibility": null,
            "align_self": null,
            "height": null,
            "min_height": null,
            "padding": null,
            "grid_auto_rows": null,
            "grid_gap": null,
            "max_width": null,
            "order": null,
            "_view_module_version": "1.2.0",
            "grid_template_areas": null,
            "object_position": null,
            "object_fit": null,
            "grid_auto_columns": null,
            "margin": null,
            "display": null,
            "left": null
          }
        },
        "ffa6dfbb51de46fbbf313b0cbee61fbb": {
          "model_module": "@jupyter-widgets/controls",
          "model_name": "ProgressStyleModel",
          "model_module_version": "1.5.0",
          "state": {
            "_view_name": "StyleView",
            "_model_name": "ProgressStyleModel",
            "description_width": "",
            "_view_module": "@jupyter-widgets/base",
            "_model_module_version": "1.5.0",
            "_view_count": null,
            "_view_module_version": "1.2.0",
            "bar_color": null,
            "_model_module": "@jupyter-widgets/controls"
          }
        },
        "cacca0a07e394831981c986028e9c37c": {
          "model_module": "@jupyter-widgets/base",
          "model_name": "LayoutModel",
          "model_module_version": "1.2.0",
          "state": {
            "_view_name": "LayoutView",
            "grid_template_rows": null,
            "right": null,
            "justify_content": null,
            "_view_module": "@jupyter-widgets/base",
            "overflow": null,
            "_model_module_version": "1.2.0",
            "_view_count": null,
            "flex_flow": null,
            "width": null,
            "min_width": null,
            "border": null,
            "align_items": null,
            "bottom": null,
            "_model_module": "@jupyter-widgets/base",
            "top": null,
            "grid_column": null,
            "overflow_y": null,
            "overflow_x": null,
            "grid_auto_flow": null,
            "grid_area": null,
            "grid_template_columns": null,
            "flex": null,
            "_model_name": "LayoutModel",
            "justify_items": null,
            "grid_row": null,
            "max_height": null,
            "align_content": null,
            "visibility": null,
            "align_self": null,
            "height": null,
            "min_height": null,
            "padding": null,
            "grid_auto_rows": null,
            "grid_gap": null,
            "max_width": null,
            "order": null,
            "_view_module_version": "1.2.0",
            "grid_template_areas": null,
            "object_position": null,
            "object_fit": null,
            "grid_auto_columns": null,
            "margin": null,
            "display": null,
            "left": null
          }
        },
        "48c42b12eaae4a0092889ac905a6686c": {
          "model_module": "@jupyter-widgets/controls",
          "model_name": "DescriptionStyleModel",
          "model_module_version": "1.5.0",
          "state": {
            "_view_name": "StyleView",
            "_model_name": "DescriptionStyleModel",
            "description_width": "",
            "_view_module": "@jupyter-widgets/base",
            "_model_module_version": "1.5.0",
            "_view_count": null,
            "_view_module_version": "1.2.0",
            "_model_module": "@jupyter-widgets/controls"
          }
        },
        "121692a689234b799b8d1fbb6676e8e6": {
          "model_module": "@jupyter-widgets/base",
          "model_name": "LayoutModel",
          "model_module_version": "1.2.0",
          "state": {
            "_view_name": "LayoutView",
            "grid_template_rows": null,
            "right": null,
            "justify_content": null,
            "_view_module": "@jupyter-widgets/base",
            "overflow": null,
            "_model_module_version": "1.2.0",
            "_view_count": null,
            "flex_flow": null,
            "width": null,
            "min_width": null,
            "border": null,
            "align_items": null,
            "bottom": null,
            "_model_module": "@jupyter-widgets/base",
            "top": null,
            "grid_column": null,
            "overflow_y": null,
            "overflow_x": null,
            "grid_auto_flow": null,
            "grid_area": null,
            "grid_template_columns": null,
            "flex": null,
            "_model_name": "LayoutModel",
            "justify_items": null,
            "grid_row": null,
            "max_height": null,
            "align_content": null,
            "visibility": null,
            "align_self": null,
            "height": null,
            "min_height": null,
            "padding": null,
            "grid_auto_rows": null,
            "grid_gap": null,
            "max_width": null,
            "order": null,
            "_view_module_version": "1.2.0",
            "grid_template_areas": null,
            "object_position": null,
            "object_fit": null,
            "grid_auto_columns": null,
            "margin": null,
            "display": null,
            "left": null
          }
        }
      }
    }
  },
  "cells": [
    {
      "cell_type": "code",
      "execution_count": null,
      "metadata": {
        "id": "94jXTfVjTnQb"
      },
      "outputs": [],
      "source": [
        "import torch\n",
        "import torchvision # torch package for vision related things\n",
        "import torch.nn.functional as F # Parameterless functions, like (some) activation functions\n",
        "import torchvision.datasets as datasets # Standard datasets\n",
        "import torchvision.transforms as transforms  # Transformations we can perform on our dataset for augmentation\n",
        "from torch import optim # For optimizers like SGD, Adam, etc.\n",
        "from torch import nn # All neural network modules\n",
        "from torch.utils.data import DataLoader # Gives easier dataset managment by creating mini batches etc.\n",
        "from tqdm import tqdm # For nice progress bar!"
      ]
    },
    {
      "cell_type": "markdown",
      "source": [
        "#Create a simple CNN"
      ],
      "metadata": {
        "id": "sCL3SVB7U0rZ"
      }
    },
    {
      "cell_type": "code",
      "source": [
        "class CNN(nn.Module):\n",
        "  def __init__(self, in_channels = 1, num_classes = 10):\n",
        "    super(CNN, self).__init__()\n",
        "    self.conv1 = nn.Conv2d(in_channels = in_channels,\n",
        "                           out_channels = 8,\n",
        "                           kernel_size = (3,3),\n",
        "                           stride = (1, 1),\n",
        "                           padding = (1, 1))\n",
        "    self.pool = nn.MaxPool2d(kernel_size = (2,2),\n",
        "                             stride = (2,2))\n",
        "    self.conv2 = nn.Conv2d(in_channels = 8,\n",
        "                           out_channels = 16,\n",
        "                           kernel_size = (3,3),\n",
        "                           stride = (1,1),\n",
        "                           padding = (1,1))\n",
        "    self.fc1 = nn.Linear(16*7*7, num_classes)\n",
        "  \n",
        "  def forward(self, x):\n",
        "    x = F.relu(self.conv1(x))\n",
        "    x = self.pool(x)\n",
        "    x = F.relu(self.conv2(x))\n",
        "    x = self.pool(x)\n",
        "    x = x.reshape(x.shape[0], -1)\n",
        "    x = self.fc1(x)\n",
        "    return x"
      ],
      "metadata": {
        "id": "cr0vTet3Utl-"
      },
      "execution_count": null,
      "outputs": []
    },
    {
      "cell_type": "code",
      "source": [
        "model = CNN()\n",
        "x = torch.rand(64, 1, 28, 28)\n",
        "model(x)"
      ],
      "metadata": {
        "colab": {
          "base_uri": "https://localhost:8080/"
        },
        "id": "o2t9aESuXnzb",
        "outputId": "feb103f7-87d4-4bfa-b977-ef99457c9758"
      },
      "execution_count": null,
      "outputs": [
        {
          "output_type": "execute_result",
          "data": {
            "text/plain": [
              "tensor([[ 0.1598, -0.1109,  0.1365, -0.1395,  0.3723,  0.1270,  0.3142,  0.3179,\n",
              "         -0.0734,  0.3381],\n",
              "        [ 0.1562, -0.1088,  0.1550, -0.1099,  0.3849,  0.1653,  0.3104,  0.2850,\n",
              "         -0.0832,  0.3145],\n",
              "        [ 0.1295, -0.0268,  0.1642, -0.1646,  0.3362,  0.1110,  0.3330,  0.2690,\n",
              "         -0.0771,  0.3446],\n",
              "        [ 0.1377, -0.0618,  0.1537, -0.1351,  0.4253,  0.1572,  0.2920,  0.3117,\n",
              "         -0.0487,  0.3546],\n",
              "        [ 0.1352, -0.0534,  0.1849, -0.1484,  0.3523,  0.1609,  0.3119,  0.2734,\n",
              "         -0.0937,  0.3518],\n",
              "        [ 0.1491, -0.0953,  0.1642, -0.1534,  0.3865,  0.1609,  0.3208,  0.2479,\n",
              "         -0.1090,  0.3767],\n",
              "        [ 0.1672, -0.0915,  0.1798, -0.1574,  0.3782,  0.1834,  0.3477,  0.2824,\n",
              "         -0.0813,  0.3165],\n",
              "        [ 0.1542, -0.0871,  0.1331, -0.1350,  0.3777,  0.1477,  0.3355,  0.2729,\n",
              "         -0.0784,  0.3358],\n",
              "        [ 0.1585, -0.1050,  0.1230, -0.1419,  0.3790,  0.1525,  0.2880,  0.2579,\n",
              "         -0.0896,  0.3381],\n",
              "        [ 0.1732, -0.0866,  0.1622, -0.1495,  0.3854,  0.1657,  0.2863,  0.2547,\n",
              "         -0.0753,  0.2948],\n",
              "        [ 0.1287, -0.0865,  0.1453, -0.1585,  0.3726,  0.1388,  0.3149,  0.2751,\n",
              "         -0.0718,  0.3186],\n",
              "        [ 0.1397, -0.0499,  0.1324, -0.1115,  0.4135,  0.1432,  0.3108,  0.2821,\n",
              "         -0.1023,  0.3279],\n",
              "        [ 0.1414, -0.0502,  0.1506, -0.1372,  0.4111,  0.1354,  0.3183,  0.2885,\n",
              "         -0.0736,  0.3489],\n",
              "        [ 0.1714, -0.0662,  0.1291, -0.1336,  0.3893,  0.1663,  0.3000,  0.2711,\n",
              "         -0.0922,  0.3729],\n",
              "        [ 0.1751, -0.0802,  0.1474, -0.1421,  0.3663,  0.1396,  0.3286,  0.2807,\n",
              "         -0.0733,  0.3455],\n",
              "        [ 0.1430, -0.0621,  0.1531, -0.1726,  0.3605,  0.1396,  0.3122,  0.2715,\n",
              "         -0.0558,  0.3380],\n",
              "        [ 0.1809, -0.0833,  0.1588, -0.1534,  0.3813,  0.1306,  0.3126,  0.2722,\n",
              "         -0.0590,  0.3705],\n",
              "        [ 0.1824, -0.0660,  0.1460, -0.1224,  0.3900,  0.1363,  0.3127,  0.3149,\n",
              "         -0.0800,  0.3367],\n",
              "        [ 0.1656, -0.0503,  0.1654, -0.1394,  0.4104,  0.1703,  0.3081,  0.3009,\n",
              "         -0.1124,  0.3829],\n",
              "        [ 0.1315, -0.0450,  0.1819, -0.1583,  0.3663,  0.1516,  0.3251,  0.2808,\n",
              "         -0.0844,  0.3792],\n",
              "        [ 0.1815, -0.0519,  0.1243, -0.1095,  0.3665,  0.1532,  0.3322,  0.2498,\n",
              "         -0.0982,  0.3628],\n",
              "        [ 0.1266, -0.0765,  0.1471, -0.1876,  0.3908,  0.1648,  0.3506,  0.2946,\n",
              "         -0.0839,  0.3453],\n",
              "        [ 0.1349, -0.0606,  0.1510, -0.1749,  0.3757,  0.1566,  0.3013,  0.3112,\n",
              "         -0.0783,  0.3352],\n",
              "        [ 0.1794, -0.0760,  0.1603, -0.1645,  0.3682,  0.1605,  0.2890,  0.2707,\n",
              "         -0.0989,  0.3238],\n",
              "        [ 0.1876, -0.0459,  0.1578, -0.1693,  0.3610,  0.1479,  0.2963,  0.3049,\n",
              "         -0.0536,  0.2990],\n",
              "        [ 0.1491, -0.0402,  0.1351, -0.1552,  0.4106,  0.1631,  0.3230,  0.2613,\n",
              "         -0.0726,  0.3395],\n",
              "        [ 0.1459, -0.0502,  0.1287, -0.1546,  0.4235,  0.1569,  0.3488,  0.3271,\n",
              "         -0.0890,  0.3811],\n",
              "        [ 0.1607, -0.1092,  0.1252, -0.1328,  0.4028,  0.1420,  0.3241,  0.2696,\n",
              "         -0.1128,  0.3335],\n",
              "        [ 0.1545, -0.0828,  0.1425, -0.1609,  0.4044,  0.1555,  0.2905,  0.2764,\n",
              "         -0.0742,  0.3204],\n",
              "        [ 0.1140, -0.0609,  0.1606, -0.1108,  0.3971,  0.1670,  0.2851,  0.2718,\n",
              "         -0.0943,  0.3482],\n",
              "        [ 0.1571, -0.0555,  0.1531, -0.1574,  0.3659,  0.1623,  0.3070,  0.2684,\n",
              "         -0.0753,  0.3238],\n",
              "        [ 0.1438, -0.0387,  0.1466, -0.1607,  0.3844,  0.1809,  0.3076,  0.2820,\n",
              "         -0.1024,  0.3380],\n",
              "        [ 0.1606, -0.0795,  0.1941, -0.1285,  0.3731,  0.1151,  0.3171,  0.2639,\n",
              "         -0.0839,  0.3451],\n",
              "        [ 0.1865, -0.0442,  0.1419, -0.1477,  0.4012,  0.1378,  0.3045,  0.3020,\n",
              "         -0.0689,  0.3048],\n",
              "        [ 0.1577, -0.0461,  0.1448, -0.1581,  0.3926,  0.1201,  0.3205,  0.2489,\n",
              "         -0.0781,  0.3349],\n",
              "        [ 0.1554, -0.0875,  0.1645, -0.1177,  0.4135,  0.1587,  0.2825,  0.3114,\n",
              "         -0.0557,  0.3500],\n",
              "        [ 0.1341, -0.0682,  0.1528, -0.1447,  0.3550,  0.1519,  0.3169,  0.2651,\n",
              "         -0.1167,  0.3316],\n",
              "        [ 0.1713, -0.0653,  0.1638, -0.1644,  0.3781,  0.1182,  0.3599,  0.2660,\n",
              "         -0.0940,  0.3745],\n",
              "        [ 0.1680, -0.0565,  0.1516, -0.1403,  0.3764,  0.1468,  0.3211,  0.2535,\n",
              "         -0.1156,  0.3336],\n",
              "        [ 0.1352, -0.0990,  0.1617, -0.1323,  0.3842,  0.1620,  0.3458,  0.2908,\n",
              "         -0.0969,  0.3529],\n",
              "        [ 0.1262, -0.0325,  0.1337, -0.1266,  0.3769,  0.1344,  0.3218,  0.2753,\n",
              "         -0.0690,  0.3526],\n",
              "        [ 0.1783, -0.0504,  0.1684, -0.1617,  0.3509,  0.1166,  0.3028,  0.2957,\n",
              "         -0.0638,  0.3056],\n",
              "        [ 0.1619, -0.0784,  0.1202, -0.1329,  0.4048,  0.1390,  0.3172,  0.3046,\n",
              "         -0.1104,  0.3620],\n",
              "        [ 0.1132, -0.1132,  0.1444, -0.1406,  0.4066,  0.1474,  0.3006,  0.2845,\n",
              "         -0.0689,  0.3623],\n",
              "        [ 0.1690, -0.0773,  0.1594, -0.1304,  0.3959,  0.1485,  0.2932,  0.2875,\n",
              "         -0.0864,  0.3464],\n",
              "        [ 0.1401, -0.0459,  0.1418, -0.1382,  0.3906,  0.1550,  0.3336,  0.2801,\n",
              "         -0.0901,  0.3171],\n",
              "        [ 0.1450, -0.0473,  0.1529, -0.1087,  0.3898,  0.1497,  0.2953,  0.2972,\n",
              "         -0.0969,  0.3500],\n",
              "        [ 0.1485, -0.0771,  0.1695, -0.1506,  0.3439,  0.1406,  0.3074,  0.2447,\n",
              "         -0.0989,  0.3471],\n",
              "        [ 0.1886, -0.0729,  0.1271, -0.1371,  0.4060,  0.1272,  0.2990,  0.2844,\n",
              "         -0.0914,  0.3434],\n",
              "        [ 0.1344, -0.0666,  0.1729, -0.1217,  0.3881,  0.1229,  0.3296,  0.2769,\n",
              "         -0.0893,  0.3742],\n",
              "        [ 0.1553, -0.0524,  0.1327, -0.1686,  0.3918,  0.1289,  0.3139,  0.2334,\n",
              "         -0.0706,  0.3356],\n",
              "        [ 0.1548, -0.0197,  0.1245, -0.1798,  0.3575,  0.1529,  0.3077,  0.2736,\n",
              "         -0.0991,  0.3311],\n",
              "        [ 0.1817, -0.0504,  0.1496, -0.1565,  0.3851,  0.0913,  0.3034,  0.3121,\n",
              "         -0.0788,  0.3196],\n",
              "        [ 0.1535, -0.1052,  0.1034, -0.1264,  0.3581,  0.1543,  0.3123,  0.2499,\n",
              "         -0.0632,  0.3448],\n",
              "        [ 0.1596, -0.0344,  0.1317, -0.1516,  0.4064,  0.1362,  0.3228,  0.2989,\n",
              "         -0.0886,  0.3461],\n",
              "        [ 0.1685, -0.0928,  0.1540, -0.1271,  0.3558,  0.1586,  0.3030,  0.2871,\n",
              "         -0.0651,  0.3508],\n",
              "        [ 0.1544, -0.0852,  0.1333, -0.1352,  0.3919,  0.1442,  0.3254,  0.2707,\n",
              "         -0.0778,  0.3296],\n",
              "        [ 0.1563, -0.0439,  0.1701, -0.1409,  0.3939,  0.1427,  0.3236,  0.2570,\n",
              "         -0.0956,  0.3318],\n",
              "        [ 0.1426, -0.0752,  0.1590, -0.1010,  0.3795,  0.1463,  0.2884,  0.2561,\n",
              "         -0.1042,  0.3714],\n",
              "        [ 0.1427, -0.0505,  0.1144, -0.1220,  0.3843,  0.1705,  0.2877,  0.2940,\n",
              "         -0.0742,  0.3534],\n",
              "        [ 0.1573, -0.0227,  0.1616, -0.1562,  0.3782,  0.1337,  0.2978,  0.2704,\n",
              "         -0.0633,  0.3488],\n",
              "        [ 0.1339, -0.0638,  0.1382, -0.1650,  0.3561,  0.1567,  0.3052,  0.2784,\n",
              "         -0.0878,  0.3166],\n",
              "        [ 0.1424, -0.0759,  0.1256, -0.1159,  0.3834,  0.1490,  0.3104,  0.2686,\n",
              "         -0.0721,  0.3370],\n",
              "        [ 0.1727, -0.0724,  0.1481, -0.1371,  0.4348,  0.1565,  0.2981,  0.2753,\n",
              "         -0.0838,  0.3637]], grad_fn=<AddmmBackward0>)"
            ]
          },
          "metadata": {},
          "execution_count": 4
        }
      ]
    },
    {
      "cell_type": "code",
      "source": [
        "model(x).shape"
      ],
      "metadata": {
        "colab": {
          "base_uri": "https://localhost:8080/"
        },
        "id": "SJk8dpEEYOHp",
        "outputId": "2f3699f3-cdfa-489f-b094-42c576ce065a"
      },
      "execution_count": null,
      "outputs": [
        {
          "output_type": "execute_result",
          "data": {
            "text/plain": [
              "torch.Size([64, 10])"
            ]
          },
          "metadata": {},
          "execution_count": 5
        }
      ]
    },
    {
      "cell_type": "markdown",
      "source": [
        "Set device"
      ],
      "metadata": {
        "id": "BguI5RtkYoyb"
      }
    },
    {
      "cell_type": "code",
      "source": [
        "device = torch.device(\"cuda\" if torch.cuda.is_available() else \"cpu\")"
      ],
      "metadata": {
        "id": "bqilivM2YQae"
      },
      "execution_count": null,
      "outputs": []
    },
    {
      "cell_type": "markdown",
      "source": [
        "Hyperparameters"
      ],
      "metadata": {
        "id": "gq2WctwZZoBB"
      }
    },
    {
      "cell_type": "code",
      "source": [
        "in_channels = 1\n",
        "num_classes = 10\n",
        "learning_rate = 0.001\n",
        "batch_size = 64\n",
        "num_epochs = 5"
      ],
      "metadata": {
        "id": "UiJoxMDlZmiq"
      },
      "execution_count": null,
      "outputs": []
    },
    {
      "cell_type": "markdown",
      "source": [
        "Load data"
      ],
      "metadata": {
        "id": "ga_ZhHuiZ2c_"
      }
    },
    {
      "cell_type": "code",
      "source": [
        "train_dataset = datasets.MNIST(root=\"dataset/\", train=True, transform=transforms.ToTensor(), download=True)\n",
        "test_dataset = datasets.MNIST(root=\"dataset/\", train=False, transform=transforms.ToTensor(), download=True)\n",
        "train_loader = DataLoader(dataset=train_dataset, batch_size=batch_size, shuffle=True)\n",
        "test_loader = DataLoader(dataset=test_dataset, batch_size=batch_size, shuffle=True)"
      ],
      "metadata": {
        "colab": {
          "base_uri": "https://localhost:8080/",
          "height": 422,
          "referenced_widgets": [
            "9692f500c1c944cba12aca7f068cfc09",
            "ebf1e92a8b554080baa0c2ccfd3b9247",
            "9830de55b73f486fafa16e1b034b894e",
            "dc3db65dbbdb460980dae0d01b55d42d",
            "eefbdeff6b454f438a0b3f431cca5aa0",
            "682d22b911d54b5088df4a57cbf81bc0",
            "2b99e2b093a9483a88bd4f17c425617e",
            "905bfea16ee24075929a513b3db1ad1d",
            "fdc095cb66da45478327b672dfb8029b",
            "8be44bf8c28d4e9e9eabe18b59ed6230",
            "5c56218cfd0b4f28864c0ab5a4c1873b",
            "a8281c7abd5b421280db431b6b96bcd1",
            "ed2a3d86064b4d9684edd60e8a2df08a",
            "9fea61c1f7b64d28a14328477e7648b5",
            "1d72ec0a01674285a7dfee50139012d9",
            "d32ac482b2944974a6c961ad317ad505",
            "657530529f1548e682ca72148c71cd79",
            "0018772c9c7641dfb25f72e086fb7a8e",
            "2f0a7c78b0ce45c5a50128787a77aa2c",
            "e28493cf275e48afa1545a89ce93b760",
            "b3f975b60fef43beb42914bd77a8ffe2",
            "039f9e2df8c642058e91b212b3962bc5",
            "3cc84db9cd554885b439c5eb3dd08dac",
            "7307e27f142f4d369e389cd24b02dbe9",
            "2786c3eaeed24403b4c62da3fba57dbe",
            "62212223f00b4bed92e794c90f067414",
            "cf7f6d5909d9472b8c4c15bee92ecbb9",
            "0e6953ba1def440e9fde0924a0baa75f",
            "4ca3affc239a4a1b83f651f46149afea",
            "f5b83e521e844469bdf51754e4e619da",
            "e1f1642b40004e9a8a3673a696e53db9",
            "a9e1d82b727f4c21b802c59221267adf",
            "92b83b502d164a258b0232bf767f978a",
            "1ebaa871461649a9959200231af20f16",
            "dd585cdff62b4ddd92ba309bb870d08b",
            "43aebf88b72c468288a061948bbc9e7a",
            "c3cd05711a0248d5a865b4b5603e2171",
            "dd44d0098f564942a10f1bd843dcc918",
            "afeecefa523e4e1385233ef2de17e8db",
            "abd45e2247ec459081ddaa5014fe803d",
            "ffa6dfbb51de46fbbf313b0cbee61fbb",
            "cacca0a07e394831981c986028e9c37c",
            "48c42b12eaae4a0092889ac905a6686c",
            "121692a689234b799b8d1fbb6676e8e6"
          ]
        },
        "id": "lWnF9_gKZxar",
        "outputId": "df53c89d-a13e-4f4f-cf06-10562bdcfeeb"
      },
      "execution_count": null,
      "outputs": [
        {
          "output_type": "stream",
          "name": "stdout",
          "text": [
            "Downloading http://yann.lecun.com/exdb/mnist/train-images-idx3-ubyte.gz\n",
            "Downloading http://yann.lecun.com/exdb/mnist/train-images-idx3-ubyte.gz to dataset/MNIST/raw/train-images-idx3-ubyte.gz\n"
          ]
        },
        {
          "output_type": "display_data",
          "data": {
            "application/vnd.jupyter.widget-view+json": {
              "model_id": "9692f500c1c944cba12aca7f068cfc09",
              "version_minor": 0,
              "version_major": 2
            },
            "text/plain": [
              "  0%|          | 0/9912422 [00:00<?, ?it/s]"
            ]
          },
          "metadata": {}
        },
        {
          "output_type": "stream",
          "name": "stdout",
          "text": [
            "Extracting dataset/MNIST/raw/train-images-idx3-ubyte.gz to dataset/MNIST/raw\n",
            "\n",
            "Downloading http://yann.lecun.com/exdb/mnist/train-labels-idx1-ubyte.gz\n",
            "Downloading http://yann.lecun.com/exdb/mnist/train-labels-idx1-ubyte.gz to dataset/MNIST/raw/train-labels-idx1-ubyte.gz\n"
          ]
        },
        {
          "output_type": "display_data",
          "data": {
            "application/vnd.jupyter.widget-view+json": {
              "model_id": "a8281c7abd5b421280db431b6b96bcd1",
              "version_minor": 0,
              "version_major": 2
            },
            "text/plain": [
              "  0%|          | 0/28881 [00:00<?, ?it/s]"
            ]
          },
          "metadata": {}
        },
        {
          "output_type": "stream",
          "name": "stdout",
          "text": [
            "Extracting dataset/MNIST/raw/train-labels-idx1-ubyte.gz to dataset/MNIST/raw\n",
            "\n",
            "Downloading http://yann.lecun.com/exdb/mnist/t10k-images-idx3-ubyte.gz\n",
            "Downloading http://yann.lecun.com/exdb/mnist/t10k-images-idx3-ubyte.gz to dataset/MNIST/raw/t10k-images-idx3-ubyte.gz\n"
          ]
        },
        {
          "output_type": "display_data",
          "data": {
            "application/vnd.jupyter.widget-view+json": {
              "model_id": "3cc84db9cd554885b439c5eb3dd08dac",
              "version_minor": 0,
              "version_major": 2
            },
            "text/plain": [
              "  0%|          | 0/1648877 [00:00<?, ?it/s]"
            ]
          },
          "metadata": {}
        },
        {
          "output_type": "stream",
          "name": "stdout",
          "text": [
            "Extracting dataset/MNIST/raw/t10k-images-idx3-ubyte.gz to dataset/MNIST/raw\n",
            "\n",
            "Downloading http://yann.lecun.com/exdb/mnist/t10k-labels-idx1-ubyte.gz\n",
            "Downloading http://yann.lecun.com/exdb/mnist/t10k-labels-idx1-ubyte.gz to dataset/MNIST/raw/t10k-labels-idx1-ubyte.gz\n"
          ]
        },
        {
          "output_type": "display_data",
          "data": {
            "application/vnd.jupyter.widget-view+json": {
              "model_id": "1ebaa871461649a9959200231af20f16",
              "version_minor": 0,
              "version_major": 2
            },
            "text/plain": [
              "  0%|          | 0/4542 [00:00<?, ?it/s]"
            ]
          },
          "metadata": {}
        },
        {
          "output_type": "stream",
          "name": "stdout",
          "text": [
            "Extracting dataset/MNIST/raw/t10k-labels-idx1-ubyte.gz to dataset/MNIST/raw\n",
            "\n"
          ]
        }
      ]
    },
    {
      "cell_type": "markdown",
      "source": [
        "Initialize Network"
      ],
      "metadata": {
        "id": "_wXUgLq9Z_1J"
      }
    },
    {
      "cell_type": "code",
      "source": [
        "model = CNN(in_channels = in_channels, num_classes = num_classes).to(device)"
      ],
      "metadata": {
        "id": "_bwyvNmJZ6pG"
      },
      "execution_count": null,
      "outputs": []
    },
    {
      "cell_type": "markdown",
      "source": [
        "Loss and optimizer"
      ],
      "metadata": {
        "id": "lvZe44yYaSnv"
      }
    },
    {
      "cell_type": "code",
      "source": [
        "criterion = nn.CrossEntropyLoss()\n",
        "optimizer = optim.Adam(model.parameters(), lr = learning_rate)"
      ],
      "metadata": {
        "id": "0OPMHY1DaMFm"
      },
      "execution_count": null,
      "outputs": []
    },
    {
      "cell_type": "markdown",
      "source": [
        "Train Network"
      ],
      "metadata": {
        "id": "lqhAFtMPagNZ"
      }
    },
    {
      "cell_type": "code",
      "source": [
        "for epoch in range(num_epochs):\n",
        "  for batch_idx, (data, targets) in enumerate(tqdm(train_loader)):\n",
        "    #Get data to cuda if possible\n",
        "    data = data.to(device = device)\n",
        "    targets = targets.to(device = device)\n",
        "\n",
        "    #forward\n",
        "    scores = model(data)\n",
        "    loss = criterion(scores, targets)\n",
        "\n",
        "    #backward\n",
        "    optimizer.zero_grad()\n",
        "    loss.backward()\n",
        "\n",
        "    #gradient descent to adam step\n",
        "    optimizer.step()"
      ],
      "metadata": {
        "colab": {
          "base_uri": "https://localhost:8080/"
        },
        "id": "qxoSY38xae9w",
        "outputId": "286a220e-953f-4f95-c3a7-f6358f77a05d"
      },
      "execution_count": null,
      "outputs": [
        {
          "output_type": "stream",
          "name": "stderr",
          "text": [
            "100%|██████████| 938/938 [00:11<00:00, 82.72it/s]\n",
            "100%|██████████| 938/938 [00:11<00:00, 83.68it/s]\n",
            "100%|██████████| 938/938 [00:11<00:00, 84.87it/s]\n",
            "100%|██████████| 938/938 [00:11<00:00, 82.73it/s]\n",
            "100%|██████████| 938/938 [00:11<00:00, 83.46it/s]\n"
          ]
        }
      ]
    },
    {
      "cell_type": "markdown",
      "source": [
        "Check accuracy on training & test to see how good our model"
      ],
      "metadata": {
        "id": "g5vExgpndIF4"
      }
    },
    {
      "cell_type": "code",
      "source": [
        "def check_accuracy(loader, model):\n",
        "  num_correct = 0\n",
        "  num_samples = 0\n",
        "  model.eval()\n",
        "\n",
        "  with torch.no_grad():\n",
        "    for x, y in loader:\n",
        "      x = x.to(device = device)\n",
        "      y = y.to(device = device)\n",
        "      scores = model(x)\n",
        "      _, predictions = scores.max(1)\n",
        "      num_correct += (predictions == y).sum()\n",
        "      num_samples += predictions.size(0) \n",
        "\n",
        "  model.train()\n",
        "  return num_correct / num_samples"
      ],
      "metadata": {
        "id": "sWMt2ygJdJI-"
      },
      "execution_count": null,
      "outputs": []
    },
    {
      "cell_type": "code",
      "source": [
        "print(f\"Accuracy on training set: {check_accuracy(train_loader, model)*100:.2f}\")\n",
        "print(f\"Accuracy on test set: {check_accuracy(test_loader, model)*100:.2f}\")"
      ],
      "metadata": {
        "colab": {
          "base_uri": "https://localhost:8080/"
        },
        "id": "TuDODHQIdtZs",
        "outputId": "e8b3c842-b9d0-4828-d76e-b97e66c0f18f"
      },
      "execution_count": null,
      "outputs": [
        {
          "output_type": "stream",
          "name": "stdout",
          "text": [
            "Accuracy on training set: 98.74\n",
            "Accuracy on test set: 98.41\n"
          ]
        }
      ]
    },
    {
      "cell_type": "code",
      "source": [
        ""
      ],
      "metadata": {
        "id": "Hr5J0BD_eF66"
      },
      "execution_count": null,
      "outputs": []
    }
  ]
}