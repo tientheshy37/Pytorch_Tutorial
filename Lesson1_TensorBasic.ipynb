{
  "nbformat": 4,
  "nbformat_minor": 0,
  "metadata": {
    "colab": {
      "name": "Lesson1: TensorBasic.ipynb",
      "provenance": [],
      "collapsed_sections": []
    },
    "kernelspec": {
      "name": "python3",
      "display_name": "Python 3"
    },
    "language_info": {
      "name": "python"
    }
  },
  "cells": [
    {
      "cell_type": "code",
      "execution_count": null,
      "metadata": {
        "id": "L9R3aGYU13mY"
      },
      "outputs": [],
      "source": [
        "import torch"
      ]
    },
    {
      "cell_type": "markdown",
      "source": [
        "#Initialzing Tensor"
      ],
      "metadata": {
        "id": "wHs8WwfU25GT"
      }
    },
    {
      "cell_type": "code",
      "source": [
        "device = \"cuda\" if torch.cuda.is_available() else \"cpu\""
      ],
      "metadata": {
        "id": "Zl8_acBF2qry"
      },
      "execution_count": null,
      "outputs": []
    },
    {
      "cell_type": "code",
      "source": [
        "my_tensor = torch.tensor([[1, 2, 3], [4, 5, 6]], dtype = torch.float32, requires_grad = True)\n",
        "my_tensor"
      ],
      "metadata": {
        "colab": {
          "base_uri": "https://localhost:8080/"
        },
        "id": "FmPITTNL3CSX",
        "outputId": "ab1d8145-12a4-4844-873b-683aa45f1bd4"
      },
      "execution_count": null,
      "outputs": [
        {
          "output_type": "execute_result",
          "data": {
            "text/plain": [
              "tensor([[1., 2., 3.],\n",
              "        [4., 5., 6.]], requires_grad=True)"
            ]
          },
          "metadata": {},
          "execution_count": 3
        }
      ]
    },
    {
      "cell_type": "code",
      "source": [
        "my_tensor.dtype"
      ],
      "metadata": {
        "colab": {
          "base_uri": "https://localhost:8080/"
        },
        "id": "dTehWwxy3VGB",
        "outputId": "4aa4328e-8f60-46c3-9665-31f2682d1faa"
      },
      "execution_count": null,
      "outputs": [
        {
          "output_type": "execute_result",
          "data": {
            "text/plain": [
              "torch.float32"
            ]
          },
          "metadata": {},
          "execution_count": 4
        }
      ]
    },
    {
      "cell_type": "code",
      "source": [
        "my_tensor.device"
      ],
      "metadata": {
        "colab": {
          "base_uri": "https://localhost:8080/"
        },
        "id": "zl87q7sz4BgZ",
        "outputId": "273333ab-6145-4102-bf56-3dbabbb34549"
      },
      "execution_count": null,
      "outputs": [
        {
          "output_type": "execute_result",
          "data": {
            "text/plain": [
              "device(type='cpu')"
            ]
          },
          "metadata": {},
          "execution_count": 5
        }
      ]
    },
    {
      "cell_type": "code",
      "source": [
        "my_tensor.shape"
      ],
      "metadata": {
        "colab": {
          "base_uri": "https://localhost:8080/"
        },
        "id": "sQ4n3whk4IRt",
        "outputId": "7bd83e01-ea90-4b7a-cee2-51f2b490b9eb"
      },
      "execution_count": null,
      "outputs": [
        {
          "output_type": "execute_result",
          "data": {
            "text/plain": [
              "torch.Size([2, 3])"
            ]
          },
          "metadata": {},
          "execution_count": 6
        }
      ]
    },
    {
      "cell_type": "code",
      "source": [
        "my_tensor.requires_grad"
      ],
      "metadata": {
        "colab": {
          "base_uri": "https://localhost:8080/"
        },
        "id": "Dt7m3nRX4e_-",
        "outputId": "411707a2-cdf8-405a-dc9d-53871df9830d"
      },
      "execution_count": null,
      "outputs": [
        {
          "output_type": "execute_result",
          "data": {
            "text/plain": [
              "True"
            ]
          },
          "metadata": {},
          "execution_count": 7
        }
      ]
    },
    {
      "cell_type": "code",
      "source": [
        "x = torch.empty(size = (3,3)) ## Tensor of shape 3x3 with uninitialized data\n",
        "x"
      ],
      "metadata": {
        "colab": {
          "base_uri": "https://localhost:8080/"
        },
        "id": "TTCa8ed74icM",
        "outputId": "9d2c47ba-7a8d-4e6f-b289-cfc411bc2495"
      },
      "execution_count": null,
      "outputs": [
        {
          "output_type": "execute_result",
          "data": {
            "text/plain": [
              "tensor([[-4.3769e-01,  3.0635e-41,  3.3631e-44],\n",
              "        [ 0.0000e+00,         nan,  6.0000e+00],\n",
              "        [ 1.1578e+27,  1.1362e+30,  7.1547e+22]])"
            ]
          },
          "metadata": {},
          "execution_count": 8
        }
      ]
    },
    {
      "cell_type": "code",
      "source": [
        "x = torch.zeros(size = (3,3))\n",
        "x"
      ],
      "metadata": {
        "colab": {
          "base_uri": "https://localhost:8080/"
        },
        "id": "7FGu-VC74uRX",
        "outputId": "ce02ff76-e481-4fc1-b1e4-432cde7015fb"
      },
      "execution_count": null,
      "outputs": [
        {
          "output_type": "execute_result",
          "data": {
            "text/plain": [
              "tensor([[0., 0., 0.],\n",
              "        [0., 0., 0.],\n",
              "        [0., 0., 0.]])"
            ]
          },
          "metadata": {},
          "execution_count": 9
        }
      ]
    },
    {
      "cell_type": "code",
      "source": [
        "x = torch.rand((3,3)) # Tensor of shape 3x3 with values from uniform distribution in interval [0,1)\n",
        "x"
      ],
      "metadata": {
        "colab": {
          "base_uri": "https://localhost:8080/"
        },
        "id": "m8pYxiBg5MN9",
        "outputId": "971b1550-8a45-48c0-9455-dcc2052a1fcc"
      },
      "execution_count": null,
      "outputs": [
        {
          "output_type": "execute_result",
          "data": {
            "text/plain": [
              "tensor([[0.9322, 0.7877, 0.7887],\n",
              "        [0.9681, 0.5157, 0.9199],\n",
              "        [0.7193, 0.0525, 0.1719]])"
            ]
          },
          "metadata": {},
          "execution_count": 10
        }
      ]
    },
    {
      "cell_type": "code",
      "source": [
        "x = torch.ones((3,3)) # Tensor of shape 3x3 with values of 1\n",
        "x"
      ],
      "metadata": {
        "colab": {
          "base_uri": "https://localhost:8080/"
        },
        "id": "S4wp8Tf85WFk",
        "outputId": "7a68b676-f044-4b8d-981c-b9dcca823a21"
      },
      "execution_count": null,
      "outputs": [
        {
          "output_type": "execute_result",
          "data": {
            "text/plain": [
              "tensor([[1., 1., 1.],\n",
              "        [1., 1., 1.],\n",
              "        [1., 1., 1.]])"
            ]
          },
          "metadata": {},
          "execution_count": 11
        }
      ]
    },
    {
      "cell_type": "code",
      "source": [
        "x = torch.eye(5) #identity matrix\n",
        "x"
      ],
      "metadata": {
        "colab": {
          "base_uri": "https://localhost:8080/"
        },
        "id": "DP6skCTW5gjX",
        "outputId": "02eaacbc-0e48-4424-d409-73b00268236f"
      },
      "execution_count": null,
      "outputs": [
        {
          "output_type": "execute_result",
          "data": {
            "text/plain": [
              "tensor([[1., 0., 0., 0., 0.],\n",
              "        [0., 1., 0., 0., 0.],\n",
              "        [0., 0., 1., 0., 0.],\n",
              "        [0., 0., 0., 1., 0.],\n",
              "        [0., 0., 0., 0., 1.]])"
            ]
          },
          "metadata": {},
          "execution_count": 12
        }
      ]
    },
    {
      "cell_type": "code",
      "source": [
        "x = torch.arange(start = 0, end = 5, step = 1)\n",
        "x, x.shape"
      ],
      "metadata": {
        "colab": {
          "base_uri": "https://localhost:8080/"
        },
        "id": "lkhvegCd5m2Y",
        "outputId": "205e4b97-c1d1-421b-bff4-22d45b86d25c"
      },
      "execution_count": null,
      "outputs": [
        {
          "output_type": "execute_result",
          "data": {
            "text/plain": [
              "(tensor([0, 1, 2, 3, 4]), torch.Size([5]))"
            ]
          },
          "metadata": {},
          "execution_count": 13
        }
      ]
    },
    {
      "cell_type": "code",
      "source": [
        "x = torch.linspace(start = 0.1, end = 1, steps = 8)\n",
        "x, x.shape"
      ],
      "metadata": {
        "colab": {
          "base_uri": "https://localhost:8080/"
        },
        "id": "bYQ7dsy65wqJ",
        "outputId": "a0571a0e-db6d-4151-a415-00877eb8afb7"
      },
      "execution_count": null,
      "outputs": [
        {
          "output_type": "execute_result",
          "data": {
            "text/plain": [
              "(tensor([0.1000, 0.2286, 0.3571, 0.4857, 0.6143, 0.7429, 0.8714, 1.0000]),\n",
              " torch.Size([8]))"
            ]
          },
          "metadata": {},
          "execution_count": 14
        }
      ]
    },
    {
      "cell_type": "code",
      "source": [
        "x = torch.empty((1, 5)).normal_(mean = 0, std = 1) # Normally distributed with mean=0, std=1\n",
        "x"
      ],
      "metadata": {
        "colab": {
          "base_uri": "https://localhost:8080/"
        },
        "id": "eX_DK7zi6Ko0",
        "outputId": "9250bed6-c1bd-4604-8d77-19195b375a46"
      },
      "execution_count": null,
      "outputs": [
        {
          "output_type": "execute_result",
          "data": {
            "text/plain": [
              "tensor([[-0.5658, -0.8268,  0.1886, -1.2738, -0.9480]])"
            ]
          },
          "metadata": {},
          "execution_count": 15
        }
      ]
    },
    {
      "cell_type": "code",
      "source": [
        "x = torch.empty((1, 5)).uniform_(0, 1) # Values from a uniform distribution low=0, high=1\n",
        "x"
      ],
      "metadata": {
        "colab": {
          "base_uri": "https://localhost:8080/"
        },
        "id": "qId3JrvH6sBf",
        "outputId": "03f636d8-5d86-4de0-c3d6-21d98da5e2e1"
      },
      "execution_count": null,
      "outputs": [
        {
          "output_type": "execute_result",
          "data": {
            "text/plain": [
              "tensor([[0.1073, 0.2993, 0.2807, 0.9832, 0.1425]])"
            ]
          },
          "metadata": {},
          "execution_count": 16
        }
      ]
    },
    {
      "cell_type": "code",
      "source": [
        "x = torch.diag(torch.ones(4)) # Diagonal matrix of shape 4x4\n",
        "x"
      ],
      "metadata": {
        "colab": {
          "base_uri": "https://localhost:8080/"
        },
        "id": "qap3Yiat69cb",
        "outputId": "62af8887-bc42-4551-bb12-4c560d48ea94"
      },
      "execution_count": null,
      "outputs": [
        {
          "output_type": "execute_result",
          "data": {
            "text/plain": [
              "tensor([[1., 0., 0., 0.],\n",
              "        [0., 1., 0., 0.],\n",
              "        [0., 0., 1., 0.],\n",
              "        [0., 0., 0., 1.]])"
            ]
          },
          "metadata": {},
          "execution_count": 17
        }
      ]
    },
    {
      "cell_type": "markdown",
      "source": [
        "##How to make initialized tensors to other types (int, float, double)"
      ],
      "metadata": {
        "id": "YF8Cvcu97leP"
      }
    },
    {
      "cell_type": "code",
      "source": [
        "tensor = torch.arange(0, 4) #Initialized as int64 by default\n",
        "tensor, tensor.dtype"
      ],
      "metadata": {
        "colab": {
          "base_uri": "https://localhost:8080/"
        },
        "id": "_Q5YYa787Qvg",
        "outputId": "f1bdfc1b-4fb8-491e-8043-15508755a1d1"
      },
      "execution_count": null,
      "outputs": [
        {
          "output_type": "execute_result",
          "data": {
            "text/plain": [
              "(tensor([0, 1, 2, 3]), torch.int64)"
            ]
          },
          "metadata": {},
          "execution_count": 18
        }
      ]
    },
    {
      "cell_type": "code",
      "source": [
        "tensor.bool() # Converted to Boolean: 1 if nonzero"
      ],
      "metadata": {
        "colab": {
          "base_uri": "https://localhost:8080/"
        },
        "id": "bIrFIhmd7iBV",
        "outputId": "cd44acb1-bbb0-4e41-b241-4c3442d94a73"
      },
      "execution_count": null,
      "outputs": [
        {
          "output_type": "execute_result",
          "data": {
            "text/plain": [
              "tensor([False,  True,  True,  True])"
            ]
          },
          "metadata": {},
          "execution_count": 19
        }
      ]
    },
    {
      "cell_type": "code",
      "source": [
        "tensor.short().dtype # Converted to int16"
      ],
      "metadata": {
        "colab": {
          "base_uri": "https://localhost:8080/"
        },
        "id": "cm_0lXTD8Ayn",
        "outputId": "663ae77f-1445-4e79-984d-13d9075dace7"
      },
      "execution_count": null,
      "outputs": [
        {
          "output_type": "execute_result",
          "data": {
            "text/plain": [
              "torch.int16"
            ]
          },
          "metadata": {},
          "execution_count": 20
        }
      ]
    },
    {
      "cell_type": "code",
      "source": [
        "tensor.long().dtype # Converted to int64"
      ],
      "metadata": {
        "colab": {
          "base_uri": "https://localhost:8080/"
        },
        "id": "H5M76XWJ8I5U",
        "outputId": "d6b6f5a9-bb0b-4e9a-d025-89bf48fded43"
      },
      "execution_count": null,
      "outputs": [
        {
          "output_type": "execute_result",
          "data": {
            "text/plain": [
              "torch.int64"
            ]
          },
          "metadata": {},
          "execution_count": 21
        }
      ]
    },
    {
      "cell_type": "code",
      "source": [
        "tensor.half() # Converted to float16"
      ],
      "metadata": {
        "colab": {
          "base_uri": "https://localhost:8080/"
        },
        "id": "mN0v-NQA8UTc",
        "outputId": "f92a88f1-0336-4229-87bb-5c57f271cf5a"
      },
      "execution_count": null,
      "outputs": [
        {
          "output_type": "execute_result",
          "data": {
            "text/plain": [
              "tensor([0., 1., 2., 3.], dtype=torch.float16)"
            ]
          },
          "metadata": {},
          "execution_count": 22
        }
      ]
    },
    {
      "cell_type": "code",
      "source": [
        "tensor.float() # Converted to float32"
      ],
      "metadata": {
        "colab": {
          "base_uri": "https://localhost:8080/"
        },
        "id": "YHUxS4wB8t5U",
        "outputId": "72f25334-f5e3-4c1a-d600-8001fcb48e1e"
      },
      "execution_count": null,
      "outputs": [
        {
          "output_type": "execute_result",
          "data": {
            "text/plain": [
              "tensor([0., 1., 2., 3.])"
            ]
          },
          "metadata": {},
          "execution_count": 23
        }
      ]
    },
    {
      "cell_type": "code",
      "source": [
        "tensor.double() # Converted to float64"
      ],
      "metadata": {
        "colab": {
          "base_uri": "https://localhost:8080/"
        },
        "id": "2NHevETc9yAs",
        "outputId": "a825e8c7-9ad3-4687-8fcc-a0defa05cd50"
      },
      "execution_count": null,
      "outputs": [
        {
          "output_type": "execute_result",
          "data": {
            "text/plain": [
              "tensor([0., 1., 2., 3.], dtype=torch.float64)"
            ]
          },
          "metadata": {},
          "execution_count": 24
        }
      ]
    },
    {
      "cell_type": "markdown",
      "source": [
        "##Array to Tensor conversion and vice-versa"
      ],
      "metadata": {
        "id": "IFryP-XG-Bof"
      }
    },
    {
      "cell_type": "code",
      "source": [
        "import numpy as np"
      ],
      "metadata": {
        "id": "r9ixpeaO97Cs"
      },
      "execution_count": null,
      "outputs": []
    },
    {
      "cell_type": "code",
      "source": [
        "np_array = np.zeros((5, 5))\n",
        "np_array"
      ],
      "metadata": {
        "colab": {
          "base_uri": "https://localhost:8080/"
        },
        "id": "iiLOxkdR-J11",
        "outputId": "5742ed2d-e34e-451f-a734-ef842d3d2c35"
      },
      "execution_count": null,
      "outputs": [
        {
          "output_type": "execute_result",
          "data": {
            "text/plain": [
              "array([[0., 0., 0., 0., 0.],\n",
              "       [0., 0., 0., 0., 0.],\n",
              "       [0., 0., 0., 0., 0.],\n",
              "       [0., 0., 0., 0., 0.],\n",
              "       [0., 0., 0., 0., 0.]])"
            ]
          },
          "metadata": {},
          "execution_count": 26
        }
      ]
    },
    {
      "cell_type": "code",
      "source": [
        "tensor = torch.from_numpy(np_array)\n",
        "tensor"
      ],
      "metadata": {
        "colab": {
          "base_uri": "https://localhost:8080/"
        },
        "id": "359DEibB-PB-",
        "outputId": "5e0537fb-a8fa-4402-c12a-c92064bf528a"
      },
      "execution_count": null,
      "outputs": [
        {
          "output_type": "execute_result",
          "data": {
            "text/plain": [
              "tensor([[0., 0., 0., 0., 0.],\n",
              "        [0., 0., 0., 0., 0.],\n",
              "        [0., 0., 0., 0., 0.],\n",
              "        [0., 0., 0., 0., 0.],\n",
              "        [0., 0., 0., 0., 0.]], dtype=torch.float64)"
            ]
          },
          "metadata": {},
          "execution_count": 27
        }
      ]
    },
    {
      "cell_type": "code",
      "source": [
        "np_array_back = tensor.numpy()\n",
        "np_array_back"
      ],
      "metadata": {
        "colab": {
          "base_uri": "https://localhost:8080/"
        },
        "id": "tXxtIser-TTb",
        "outputId": "3e78d0e0-82be-4597-b0b1-79a878052cfa"
      },
      "execution_count": null,
      "outputs": [
        {
          "output_type": "execute_result",
          "data": {
            "text/plain": [
              "array([[0., 0., 0., 0., 0.],\n",
              "       [0., 0., 0., 0., 0.],\n",
              "       [0., 0., 0., 0., 0.],\n",
              "       [0., 0., 0., 0., 0.],\n",
              "       [0., 0., 0., 0., 0.]])"
            ]
          },
          "metadata": {},
          "execution_count": 28
        }
      ]
    },
    {
      "cell_type": "markdown",
      "source": [
        "#Tensor Math & Comparison Operations "
      ],
      "metadata": {
        "id": "yD_-zNhP-sWi"
      }
    },
    {
      "cell_type": "code",
      "source": [
        "x = torch.tensor([1, 2, 3])\n",
        "y = torch.tensor([9, 8, 7])"
      ],
      "metadata": {
        "id": "mON0-nTq-e4L"
      },
      "execution_count": null,
      "outputs": []
    },
    {
      "cell_type": "markdown",
      "source": [
        "Addition"
      ],
      "metadata": {
        "id": "QRGJDncd-2LO"
      }
    },
    {
      "cell_type": "code",
      "source": [
        "z1 = torch.empty(3)\n",
        "torch.add(x, y, out = z1)\n",
        "z1"
      ],
      "metadata": {
        "colab": {
          "base_uri": "https://localhost:8080/"
        },
        "id": "mIBz_Rys-y4x",
        "outputId": "dde43c99-12d1-4c8c-b661-dcec42d8d66e"
      },
      "execution_count": null,
      "outputs": [
        {
          "output_type": "execute_result",
          "data": {
            "text/plain": [
              "tensor([10., 10., 10.])"
            ]
          },
          "metadata": {},
          "execution_count": 30
        }
      ]
    },
    {
      "cell_type": "code",
      "source": [
        "z2 = torch.add(x, y) #This is another way\n",
        "z2"
      ],
      "metadata": {
        "colab": {
          "base_uri": "https://localhost:8080/"
        },
        "id": "O4wLuPnN_EGv",
        "outputId": "65e3c27c-96e8-44ff-9742-48ffa92cb7b6"
      },
      "execution_count": null,
      "outputs": [
        {
          "output_type": "execute_result",
          "data": {
            "text/plain": [
              "tensor([10, 10, 10])"
            ]
          },
          "metadata": {},
          "execution_count": 31
        }
      ]
    },
    {
      "cell_type": "code",
      "source": [
        "z = x + y #This is other way\n",
        "z"
      ],
      "metadata": {
        "colab": {
          "base_uri": "https://localhost:8080/"
        },
        "id": "sZX0HN7a_J0h",
        "outputId": "c60cd2e7-e5dd-4165-da66-19da39b100b8"
      },
      "execution_count": null,
      "outputs": [
        {
          "output_type": "execute_result",
          "data": {
            "text/plain": [
              "tensor([10, 10, 10])"
            ]
          },
          "metadata": {},
          "execution_count": 32
        }
      ]
    },
    {
      "cell_type": "markdown",
      "source": [
        "Subtraction"
      ],
      "metadata": {
        "id": "zem3_5qA_vbD"
      }
    },
    {
      "cell_type": "code",
      "source": [
        "z = x - y\n",
        "z"
      ],
      "metadata": {
        "colab": {
          "base_uri": "https://localhost:8080/"
        },
        "id": "4Ig4jpB__PYY",
        "outputId": "19995c5d-d9f0-44f3-b3f9-500ec22ee0b5"
      },
      "execution_count": null,
      "outputs": [
        {
          "output_type": "execute_result",
          "data": {
            "text/plain": [
              "tensor([-8, -6, -4])"
            ]
          },
          "metadata": {},
          "execution_count": 33
        }
      ]
    },
    {
      "cell_type": "markdown",
      "source": [
        "Division"
      ],
      "metadata": {
        "id": "BBtFy7i2_2CQ"
      }
    },
    {
      "cell_type": "code",
      "source": [
        "z = torch.true_divide(x, y)\n",
        "z"
      ],
      "metadata": {
        "colab": {
          "base_uri": "https://localhost:8080/"
        },
        "id": "-t5-kuX4_ynZ",
        "outputId": "f7eedd0c-a52c-4248-8350-477bc5c06b86"
      },
      "execution_count": null,
      "outputs": [
        {
          "output_type": "execute_result",
          "data": {
            "text/plain": [
              "tensor([0.1111, 0.2500, 0.4286])"
            ]
          },
          "metadata": {},
          "execution_count": 34
        }
      ]
    },
    {
      "cell_type": "markdown",
      "source": [
        "Inplace Operations"
      ],
      "metadata": {
        "id": "vm1yu5mpACCh"
      }
    },
    {
      "cell_type": "code",
      "source": [
        "t = torch.zeros(3)\n",
        "t.add_(x)\n",
        "t"
      ],
      "metadata": {
        "colab": {
          "base_uri": "https://localhost:8080/"
        },
        "id": "f6QZgO9n_9fh",
        "outputId": "723f8ad7-2c6c-41a9-b851-e602313c3f26"
      },
      "execution_count": null,
      "outputs": [
        {
          "output_type": "execute_result",
          "data": {
            "text/plain": [
              "tensor([1., 2., 3.])"
            ]
          },
          "metadata": {},
          "execution_count": 35
        }
      ]
    },
    {
      "cell_type": "code",
      "source": [
        "t += x\n",
        "t"
      ],
      "metadata": {
        "colab": {
          "base_uri": "https://localhost:8080/"
        },
        "id": "MSYYsmijAT62",
        "outputId": "20f829ba-04ef-4520-e15d-686236b0b4a9"
      },
      "execution_count": null,
      "outputs": [
        {
          "output_type": "execute_result",
          "data": {
            "text/plain": [
              "tensor([2., 4., 6.])"
            ]
          },
          "metadata": {},
          "execution_count": 36
        }
      ]
    },
    {
      "cell_type": "markdown",
      "source": [
        "Exponentiation"
      ],
      "metadata": {
        "id": "5rFw3gV5AhJh"
      }
    },
    {
      "cell_type": "code",
      "source": [
        "z = x.pow(2)\n",
        "z"
      ],
      "metadata": {
        "colab": {
          "base_uri": "https://localhost:8080/"
        },
        "id": "gHEDx3CNAeF9",
        "outputId": "d959a68c-1b9f-4464-ef24-76a1b00fa5b8"
      },
      "execution_count": null,
      "outputs": [
        {
          "output_type": "execute_result",
          "data": {
            "text/plain": [
              "tensor([1, 4, 9])"
            ]
          },
          "metadata": {},
          "execution_count": 37
        }
      ]
    },
    {
      "cell_type": "code",
      "source": [
        "z = x**2\n",
        "z"
      ],
      "metadata": {
        "colab": {
          "base_uri": "https://localhost:8080/"
        },
        "id": "IyV6iE7PAmMe",
        "outputId": "14338ca1-639d-4a39-82d5-638e14a95989"
      },
      "execution_count": null,
      "outputs": [
        {
          "output_type": "execute_result",
          "data": {
            "text/plain": [
              "tensor([1, 4, 9])"
            ]
          },
          "metadata": {},
          "execution_count": 38
        }
      ]
    },
    {
      "cell_type": "markdown",
      "source": [
        "Simple comparisons"
      ],
      "metadata": {
        "id": "Dg-FEq2PA0ii"
      }
    },
    {
      "cell_type": "code",
      "source": [
        "z = x > 0\n",
        "z"
      ],
      "metadata": {
        "colab": {
          "base_uri": "https://localhost:8080/"
        },
        "id": "McOpqVN_Anbp",
        "outputId": "6483d9b7-8efe-43c3-f98d-3e3b0c229dd7"
      },
      "execution_count": null,
      "outputs": [
        {
          "output_type": "execute_result",
          "data": {
            "text/plain": [
              "tensor([True, True, True])"
            ]
          },
          "metadata": {},
          "execution_count": 39
        }
      ]
    },
    {
      "cell_type": "code",
      "source": [
        "z = x < 0\n",
        "z"
      ],
      "metadata": {
        "colab": {
          "base_uri": "https://localhost:8080/"
        },
        "id": "TUyV0a4iCMqW",
        "outputId": "b8eb4aab-cc64-491d-8e08-d9cc37c3e686"
      },
      "execution_count": null,
      "outputs": [
        {
          "output_type": "execute_result",
          "data": {
            "text/plain": [
              "tensor([False, False, False])"
            ]
          },
          "metadata": {},
          "execution_count": 40
        }
      ]
    },
    {
      "cell_type": "markdown",
      "source": [
        "Matrix Multiplication"
      ],
      "metadata": {
        "id": "b1cgVusFCSl_"
      }
    },
    {
      "cell_type": "code",
      "source": [
        "x1 = torch.rand((2, 5))\n",
        "x2 = torch.rand((5, 3))\n",
        "x3 = torch.mm(x1, x2)\n",
        "x3"
      ],
      "metadata": {
        "colab": {
          "base_uri": "https://localhost:8080/"
        },
        "id": "tWH301CKCQl6",
        "outputId": "5ccc6f0e-0429-4c23-d4ca-2dbce53daafc"
      },
      "execution_count": null,
      "outputs": [
        {
          "output_type": "execute_result",
          "data": {
            "text/plain": [
              "tensor([[0.5563, 0.8440, 0.7745],\n",
              "        [0.7161, 1.4716, 1.1797]])"
            ]
          },
          "metadata": {},
          "execution_count": 41
        }
      ]
    },
    {
      "cell_type": "code",
      "source": [
        "x3 = x1.mm(x2) #another way\n",
        "x3"
      ],
      "metadata": {
        "colab": {
          "base_uri": "https://localhost:8080/"
        },
        "id": "pXX-9EPoCdtg",
        "outputId": "e8bb1526-d674-4062-e990-5a54cbc3a045"
      },
      "execution_count": null,
      "outputs": [
        {
          "output_type": "execute_result",
          "data": {
            "text/plain": [
              "tensor([[0.5563, 0.8440, 0.7745],\n",
              "        [0.7161, 1.4716, 1.1797]])"
            ]
          },
          "metadata": {},
          "execution_count": 42
        }
      ]
    },
    {
      "cell_type": "markdown",
      "source": [
        "Matrix exponentiation"
      ],
      "metadata": {
        "id": "i7TJmo20CqWl"
      }
    },
    {
      "cell_type": "code",
      "source": [
        "matrix_exp = torch.rand(5, 5)\n",
        "matrix_exp.matrix_power(3)  # is same as matrix_exp (mm) matrix_exp (mm) matrix_exp"
      ],
      "metadata": {
        "colab": {
          "base_uri": "https://localhost:8080/"
        },
        "id": "cXo2icflCjMs",
        "outputId": "6225f80e-ca4b-4b68-e3f5-2b07f00053e2"
      },
      "execution_count": null,
      "outputs": [
        {
          "output_type": "execute_result",
          "data": {
            "text/plain": [
              "tensor([[5.6555, 5.1765, 5.5796, 3.3175, 2.2432],\n",
              "        [4.5018, 4.3208, 4.2859, 2.7565, 1.8566],\n",
              "        [4.0883, 3.5758, 4.1948, 2.3545, 1.6200],\n",
              "        [4.6346, 4.2273, 4.4698, 2.7379, 1.8855],\n",
              "        [3.9992, 3.5388, 3.7918, 2.2384, 1.5355]])"
            ]
          },
          "metadata": {},
          "execution_count": 43
        }
      ]
    },
    {
      "cell_type": "markdown",
      "source": [
        "Element wise multiplication"
      ],
      "metadata": {
        "id": "Sbiki0X2FIPF"
      }
    },
    {
      "cell_type": "code",
      "source": [
        "z = x * y\n",
        "z"
      ],
      "metadata": {
        "colab": {
          "base_uri": "https://localhost:8080/"
        },
        "id": "eShnL3CLDwh_",
        "outputId": "ab5ef297-3787-4546-9825-47eabeacbaf8"
      },
      "execution_count": null,
      "outputs": [
        {
          "output_type": "execute_result",
          "data": {
            "text/plain": [
              "tensor([ 9, 16, 21])"
            ]
          },
          "metadata": {},
          "execution_count": 44
        }
      ]
    },
    {
      "cell_type": "markdown",
      "source": [
        "Dot product"
      ],
      "metadata": {
        "id": "jeJCPHK7Fdq1"
      }
    },
    {
      "cell_type": "code",
      "source": [
        "z = torch.dot(x, y)\n",
        "z"
      ],
      "metadata": {
        "colab": {
          "base_uri": "https://localhost:8080/"
        },
        "id": "8EC-Ic9-FL4N",
        "outputId": "9824a3c9-e4b6-4f49-88d5-1cb8263d2e39"
      },
      "execution_count": null,
      "outputs": [
        {
          "output_type": "execute_result",
          "data": {
            "text/plain": [
              "tensor(46)"
            ]
          },
          "metadata": {},
          "execution_count": 45
        }
      ]
    },
    {
      "cell_type": "markdown",
      "source": [
        "Batch Matrix Multiplication"
      ],
      "metadata": {
        "id": "y0mn0D8HFnxT"
      }
    },
    {
      "cell_type": "code",
      "source": [
        "batch = 32\n",
        "n = 10\n",
        "m = 20\n",
        "p = 30"
      ],
      "metadata": {
        "id": "wwoR2ivGFipP"
      },
      "execution_count": null,
      "outputs": []
    },
    {
      "cell_type": "code",
      "source": [
        "tensor1 = torch.rand((batch, n, m))\n",
        "tensor2 = torch.rand((batch, m, p))\n",
        "out_bmm = torch.bmm(tensor1, tensor2) # Will be shape: (b x n x p)\n",
        "out_bmm[2]"
      ],
      "metadata": {
        "colab": {
          "base_uri": "https://localhost:8080/"
        },
        "id": "9DGTQqnBGJkA",
        "outputId": "ae4da513-3f28-4751-d552-5a2b2f8a66e0"
      },
      "execution_count": null,
      "outputs": [
        {
          "output_type": "execute_result",
          "data": {
            "text/plain": [
              "tensor([[4.6363, 6.5409, 5.3746, 4.4489, 5.2535, 6.5553, 5.4093, 6.1074, 3.7201,\n",
              "         5.1652, 5.0154, 5.7328, 5.0090, 4.4519, 6.0133, 4.4113, 5.2161, 4.1146,\n",
              "         4.3802, 4.0611, 4.1409, 5.8487, 4.7867, 5.0938, 4.5757, 5.5300, 4.0907,\n",
              "         5.1513, 5.6065, 3.3424],\n",
              "        [3.3269, 4.3795, 4.1767, 3.4888, 4.4400, 4.6329, 3.8056, 4.5658, 3.6289,\n",
              "         4.2806, 3.9482, 4.3558, 3.8429, 3.0261, 4.2062, 3.0417, 3.3361, 3.5631,\n",
              "         4.5263, 3.0650, 3.0298, 4.1446, 3.8792, 3.7738, 3.4724, 4.3133, 3.8931,\n",
              "         4.0541, 4.3429, 2.5627],\n",
              "        [4.1342, 4.7938, 3.6371, 3.4015, 4.0770, 5.0879, 4.0134, 4.4803, 3.3343,\n",
              "         4.3313, 4.6180, 4.9645, 5.0563, 4.0392, 4.6211, 4.1494, 4.3953, 3.9992,\n",
              "         3.9316, 3.7252, 3.0451, 4.6174, 3.3274, 3.7305, 4.6979, 3.6244, 4.1606,\n",
              "         3.9689, 5.0699, 2.9752],\n",
              "        [5.1481, 5.8446, 4.1476, 4.4335, 5.8985, 6.2001, 5.3510, 5.2018, 3.8714,\n",
              "         5.0066, 5.0450, 5.6708, 5.4126, 5.4542, 5.2107, 4.1152, 5.8159, 5.6284,\n",
              "         4.9166, 4.5135, 4.4089, 5.9585, 4.7635, 5.1936, 4.9140, 5.5826, 4.7711,\n",
              "         4.6161, 5.8671, 3.2088],\n",
              "        [4.8634, 6.4357, 5.5591, 5.1137, 5.4730, 5.7871, 5.1200, 6.5067, 4.5990,\n",
              "         5.0994, 4.7672, 5.4198, 4.5339, 4.2558, 5.1416, 3.3986, 5.0976, 5.4870,\n",
              "         5.0579, 4.6407, 4.7689, 6.0249, 5.3330, 5.3878, 4.2727, 6.2706, 4.5565,\n",
              "         5.7714, 5.3276, 3.7754],\n",
              "        [5.2780, 5.7128, 4.0995, 4.9396, 5.6638, 5.9437, 4.8265, 5.6400, 4.9834,\n",
              "         4.6913, 3.6191, 5.5211, 4.5096, 3.7710, 4.9565, 4.2358, 5.6079, 4.8791,\n",
              "         4.3763, 5.1141, 3.7910, 4.8934, 4.1578, 5.5228, 4.8177, 5.5551, 5.4050,\n",
              "         5.1280, 5.4990, 4.2735],\n",
              "        [4.8979, 6.6691, 5.7969, 4.4565, 5.8123, 6.2389, 5.8012, 6.6263, 3.8318,\n",
              "         6.3804, 5.8574, 6.6717, 5.3877, 5.2473, 6.1141, 4.4559, 5.8493, 4.8609,\n",
              "         5.7702, 5.1205, 4.7128, 6.8551, 5.7238, 6.0039, 4.9945, 6.1604, 4.9526,\n",
              "         5.4977, 6.0251, 4.0448],\n",
              "        [4.3733, 5.8251, 4.3968, 4.5542, 6.4247, 6.7551, 5.0292, 5.9277, 4.2191,\n",
              "         4.6353, 4.5760, 6.4183, 4.9994, 4.8031, 5.3766, 3.9489, 4.8612, 4.9585,\n",
              "         5.0661, 4.2640, 4.2479, 5.4071, 4.7725, 5.0336, 4.4177, 5.6214, 4.8777,\n",
              "         4.3514, 5.7031, 2.9938],\n",
              "        [5.7805, 6.8035, 4.5409, 5.5784, 5.4189, 6.1190, 5.6994, 5.9971, 4.0518,\n",
              "         4.6526, 4.9612, 5.9272, 6.1792, 4.7926, 6.1063, 4.3493, 5.8860, 5.7653,\n",
              "         4.6977, 4.4280, 5.0039, 6.7908, 4.7278, 5.6183, 5.9903, 5.6407, 4.9749,\n",
              "         6.0384, 6.1764, 4.2981],\n",
              "        [4.1278, 4.5140, 3.8716, 4.1333, 3.7785, 4.6768, 4.2955, 4.6763, 3.4472,\n",
              "         4.6529, 3.4314, 4.5619, 3.6317, 4.1359, 4.4481, 3.2902, 4.9794, 4.7348,\n",
              "         3.8950, 4.0458, 3.7214, 5.0364, 3.8157, 4.3899, 4.2370, 4.6826, 3.8187,\n",
              "         4.2181, 4.1814, 3.8430]])"
            ]
          },
          "metadata": {},
          "execution_count": 47
        }
      ]
    },
    {
      "cell_type": "markdown",
      "source": [
        "Broadcasting"
      ],
      "metadata": {
        "id": "peqZMsYxGyD-"
      }
    },
    {
      "cell_type": "code",
      "source": [
        "x1 = torch.rand((5, 5))\n",
        "x2 = torch.ones((1, 5))\n",
        "x1, x2"
      ],
      "metadata": {
        "colab": {
          "base_uri": "https://localhost:8080/"
        },
        "id": "TWXPXmYKGqw_",
        "outputId": "d9d29c28-0322-48d8-8b8a-e5ff41db6658"
      },
      "execution_count": null,
      "outputs": [
        {
          "output_type": "execute_result",
          "data": {
            "text/plain": [
              "(tensor([[0.3994, 0.7818, 0.3163, 0.3021, 0.2751],\n",
              "         [0.2010, 0.8881, 0.1199, 0.1108, 0.2732],\n",
              "         [0.7326, 0.8354, 0.9611, 0.8567, 0.4453],\n",
              "         [0.7711, 0.3719, 0.3144, 0.4606, 0.2151],\n",
              "         [0.1218, 0.4925, 0.2430, 0.9652, 0.3509]]),\n",
              " tensor([[1., 1., 1., 1., 1.]]))"
            ]
          },
          "metadata": {},
          "execution_count": 48
        }
      ]
    },
    {
      "cell_type": "code",
      "source": [
        "z = x1 - x2\n",
        "z"
      ],
      "metadata": {
        "colab": {
          "base_uri": "https://localhost:8080/"
        },
        "id": "INjhXw7lG9bR",
        "outputId": "07c3777b-259c-4856-9de2-43cb37f4297d"
      },
      "execution_count": null,
      "outputs": [
        {
          "output_type": "execute_result",
          "data": {
            "text/plain": [
              "tensor([[-0.6006, -0.2182, -0.6837, -0.6979, -0.7249],\n",
              "        [-0.7990, -0.1119, -0.8801, -0.8892, -0.7268],\n",
              "        [-0.2674, -0.1646, -0.0389, -0.1433, -0.5547],\n",
              "        [-0.2289, -0.6281, -0.6856, -0.5394, -0.7849],\n",
              "        [-0.8782, -0.5075, -0.7570, -0.0348, -0.6491]])"
            ]
          },
          "metadata": {},
          "execution_count": 49
        }
      ]
    },
    {
      "cell_type": "code",
      "source": [
        "z = x1 * x2\n",
        "z"
      ],
      "metadata": {
        "colab": {
          "base_uri": "https://localhost:8080/"
        },
        "id": "J98MQgCNHEIH",
        "outputId": "2dbc06ba-022a-4314-8b35-12110cc9906e"
      },
      "execution_count": null,
      "outputs": [
        {
          "output_type": "execute_result",
          "data": {
            "text/plain": [
              "tensor([[0.3994, 0.7818, 0.3163, 0.3021, 0.2751],\n",
              "        [0.2010, 0.8881, 0.1199, 0.1108, 0.2732],\n",
              "        [0.7326, 0.8354, 0.9611, 0.8567, 0.4453],\n",
              "        [0.7711, 0.3719, 0.3144, 0.4606, 0.2151],\n",
              "        [0.1218, 0.4925, 0.2430, 0.9652, 0.3509]])"
            ]
          },
          "metadata": {},
          "execution_count": 50
        }
      ]
    },
    {
      "cell_type": "code",
      "source": [
        "z = x1 ** x2\n",
        "z"
      ],
      "metadata": {
        "colab": {
          "base_uri": "https://localhost:8080/"
        },
        "id": "CHWVKePCHWqc",
        "outputId": "1771ebde-57ba-4c9e-8d14-1e579a7a59d4"
      },
      "execution_count": null,
      "outputs": [
        {
          "output_type": "execute_result",
          "data": {
            "text/plain": [
              "tensor([[0.3994, 0.7818, 0.3163, 0.3021, 0.2751],\n",
              "        [0.2010, 0.8881, 0.1199, 0.1108, 0.2732],\n",
              "        [0.7326, 0.8354, 0.9611, 0.8567, 0.4453],\n",
              "        [0.7711, 0.3719, 0.3144, 0.4606, 0.2151],\n",
              "        [0.1218, 0.4925, 0.2430, 0.9652, 0.3509]])"
            ]
          },
          "metadata": {},
          "execution_count": 51
        }
      ]
    },
    {
      "cell_type": "markdown",
      "source": [
        "Other useful tensor operations"
      ],
      "metadata": {
        "id": "zKa1g492HgQg"
      }
    },
    {
      "cell_type": "code",
      "source": [
        "x"
      ],
      "metadata": {
        "colab": {
          "base_uri": "https://localhost:8080/"
        },
        "id": "k81jxWo5HsiG",
        "outputId": "3c9c46a2-696f-41ce-fd38-58d515457dc5"
      },
      "execution_count": null,
      "outputs": [
        {
          "output_type": "execute_result",
          "data": {
            "text/plain": [
              "tensor([1, 2, 3])"
            ]
          },
          "metadata": {},
          "execution_count": 52
        }
      ]
    },
    {
      "cell_type": "code",
      "source": [
        "sum_x = torch.sum(x, dim = 0)  # Sum of x across dim=0\n",
        "sum_x"
      ],
      "metadata": {
        "colab": {
          "base_uri": "https://localhost:8080/"
        },
        "id": "u1TSRHo1HbDZ",
        "outputId": "2b0712f0-a720-4df6-e25b-4f8efdb6384c"
      },
      "execution_count": null,
      "outputs": [
        {
          "output_type": "execute_result",
          "data": {
            "text/plain": [
              "tensor(6)"
            ]
          },
          "metadata": {},
          "execution_count": 53
        }
      ]
    },
    {
      "cell_type": "code",
      "source": [
        "values, indices = torch.max(x, dim = 0) # Can also do x.max(dim=0)\n",
        "values, indices"
      ],
      "metadata": {
        "colab": {
          "base_uri": "https://localhost:8080/"
        },
        "id": "TmNH2IenHuAF",
        "outputId": "e2a695c7-9581-4ceb-f5bf-3bdd46f057c5"
      },
      "execution_count": null,
      "outputs": [
        {
          "output_type": "execute_result",
          "data": {
            "text/plain": [
              "(tensor(3), tensor(2))"
            ]
          },
          "metadata": {},
          "execution_count": 54
        }
      ]
    },
    {
      "cell_type": "code",
      "source": [
        "values, indices = torch.min(x, dim = 0) # Can also do x.min(dim=0)\n",
        "values, indices"
      ],
      "metadata": {
        "id": "wISvL0u2IBX7",
        "colab": {
          "base_uri": "https://localhost:8080/"
        },
        "outputId": "ee4de797-0754-49cd-a129-143b3ea7cb2a"
      },
      "execution_count": null,
      "outputs": [
        {
          "output_type": "execute_result",
          "data": {
            "text/plain": [
              "(tensor(1), tensor(0))"
            ]
          },
          "metadata": {},
          "execution_count": 55
        }
      ]
    },
    {
      "cell_type": "code",
      "source": [
        "abs = torch.abs(x) #Returns x where abs function has been applied to every element\n",
        "abs"
      ],
      "metadata": {
        "colab": {
          "base_uri": "https://localhost:8080/"
        },
        "id": "ViKB0WAJkFP_",
        "outputId": "db37271f-d4e5-49db-8ea1-d7688bf8de19"
      },
      "execution_count": null,
      "outputs": [
        {
          "output_type": "execute_result",
          "data": {
            "text/plain": [
              "tensor([1, 2, 3])"
            ]
          },
          "metadata": {},
          "execution_count": 56
        }
      ]
    },
    {
      "cell_type": "code",
      "source": [
        "z = torch.argmax(x, dim = 0) # Gets index of the maximum value\n",
        "z"
      ],
      "metadata": {
        "colab": {
          "base_uri": "https://localhost:8080/"
        },
        "id": "GxSjRtJZkg84",
        "outputId": "45b4b79f-ed99-490d-d179-6dc842cdbfd5"
      },
      "execution_count": null,
      "outputs": [
        {
          "output_type": "execute_result",
          "data": {
            "text/plain": [
              "tensor(2)"
            ]
          },
          "metadata": {},
          "execution_count": 57
        }
      ]
    },
    {
      "cell_type": "code",
      "source": [
        "z = torch.argmin(x, dim=0)  # Gets index of the minimum value\n",
        "z"
      ],
      "metadata": {
        "colab": {
          "base_uri": "https://localhost:8080/"
        },
        "id": "IdQbNZJSkrds",
        "outputId": "a39bfad6-c87c-4c01-8c07-1c788824f100"
      },
      "execution_count": null,
      "outputs": [
        {
          "output_type": "execute_result",
          "data": {
            "text/plain": [
              "tensor(0)"
            ]
          },
          "metadata": {},
          "execution_count": 59
        }
      ]
    },
    {
      "cell_type": "code",
      "source": [
        "mean_x = torch.mean(x.float(), dim = 0) # mean requires x to be float\n",
        "mean_x"
      ],
      "metadata": {
        "colab": {
          "base_uri": "https://localhost:8080/"
        },
        "id": "3_eaOXE4kuO5",
        "outputId": "97e4056d-430d-4828-f05d-f99b750a0fb7"
      },
      "execution_count": null,
      "outputs": [
        {
          "output_type": "execute_result",
          "data": {
            "text/plain": [
              "tensor(2.)"
            ]
          },
          "metadata": {},
          "execution_count": 60
        }
      ]
    },
    {
      "cell_type": "code",
      "source": [
        "z = torch.eq(x, y) # Element wise comparison, in this case z = [False, False, False]\n",
        "z"
      ],
      "metadata": {
        "colab": {
          "base_uri": "https://localhost:8080/"
        },
        "id": "g1z-2TmnlUai",
        "outputId": "963b303f-d68b-4c23-b949-54e260b3d45c"
      },
      "execution_count": null,
      "outputs": [
        {
          "output_type": "execute_result",
          "data": {
            "text/plain": [
              "tensor([False, False, False])"
            ]
          },
          "metadata": {},
          "execution_count": 61
        }
      ]
    },
    {
      "cell_type": "code",
      "source": [
        "sorted_y, indices = torch.sort(y, dim = 0, descending = False)\n",
        "sorted_y, indices"
      ],
      "metadata": {
        "colab": {
          "base_uri": "https://localhost:8080/"
        },
        "id": "FP9eogFLlfst",
        "outputId": "974ac193-0e9d-466c-c980-e0bfa4301af1"
      },
      "execution_count": null,
      "outputs": [
        {
          "output_type": "execute_result",
          "data": {
            "text/plain": [
              "(tensor([7, 8, 9]), tensor([2, 1, 0]))"
            ]
          },
          "metadata": {},
          "execution_count": 62
        }
      ]
    },
    {
      "cell_type": "code",
      "source": [
        "z = torch.clamp(x, min = 0) # All values < 0 set to 0 and values > 0 unchanged (this is exactly ReLU function)\n",
        "z"
      ],
      "metadata": {
        "colab": {
          "base_uri": "https://localhost:8080/"
        },
        "id": "nDmoTwqvl0vR",
        "outputId": "296a453d-3697-4628-854d-b2c2ce9312c0"
      },
      "execution_count": null,
      "outputs": [
        {
          "output_type": "execute_result",
          "data": {
            "text/plain": [
              "tensor([1, 2, 3])"
            ]
          },
          "metadata": {},
          "execution_count": 63
        }
      ]
    },
    {
      "cell_type": "code",
      "source": [
        "z = torch.clamp(x, min=1, max=2) # If you want to values over max_val to be clamped\n",
        "z"
      ],
      "metadata": {
        "colab": {
          "base_uri": "https://localhost:8080/"
        },
        "id": "25iZnLIBmKD-",
        "outputId": "b9977109-a918-487e-dadd-f3973eda4403"
      },
      "execution_count": null,
      "outputs": [
        {
          "output_type": "execute_result",
          "data": {
            "text/plain": [
              "tensor([1, 2, 2])"
            ]
          },
          "metadata": {},
          "execution_count": 66
        }
      ]
    },
    {
      "cell_type": "code",
      "source": [
        "x = torch.tensor([1, 0, 1, 4, 1], dtype=torch.bool)  # True/False values\n",
        "x"
      ],
      "metadata": {
        "colab": {
          "base_uri": "https://localhost:8080/"
        },
        "id": "3TgYdIhEpmGD",
        "outputId": "57d45ab0-9e8f-49fb-e440-1183df8e2e1a"
      },
      "execution_count": null,
      "outputs": [
        {
          "output_type": "execute_result",
          "data": {
            "text/plain": [
              "tensor([ True, False,  True,  True,  True])"
            ]
          },
          "metadata": {},
          "execution_count": 68
        }
      ]
    },
    {
      "cell_type": "code",
      "source": [
        "z = torch.any(x)  # will return True, can also do x.any() instead of torch.any(x)\n",
        "z"
      ],
      "metadata": {
        "colab": {
          "base_uri": "https://localhost:8080/"
        },
        "id": "DxjueCPyppt0",
        "outputId": "b3f8315f-61ed-48c4-9d7d-80611cc96117"
      },
      "execution_count": null,
      "outputs": [
        {
          "output_type": "execute_result",
          "data": {
            "text/plain": [
              "tensor(True)"
            ]
          },
          "metadata": {},
          "execution_count": 69
        }
      ]
    },
    {
      "cell_type": "code",
      "source": [
        "z = torch.all(x)  # will return False (since not all are True), can also do x.all() instead of torch.all()\n",
        "z"
      ],
      "metadata": {
        "colab": {
          "base_uri": "https://localhost:8080/"
        },
        "id": "MGvrU8Fmpv_2",
        "outputId": "fc82b152-733e-4ff5-b6b2-61bc20dae61d"
      },
      "execution_count": null,
      "outputs": [
        {
          "output_type": "execute_result",
          "data": {
            "text/plain": [
              "tensor(False)"
            ]
          },
          "metadata": {},
          "execution_count": 70
        }
      ]
    },
    {
      "cell_type": "markdown",
      "source": [
        "#Tensor Indexing"
      ],
      "metadata": {
        "id": "xo4Inf5JpON7"
      }
    },
    {
      "cell_type": "code",
      "source": [
        "batch_size = 10\n",
        "features = 25\n",
        "x = torch.rand((batch_size, features))\n",
        "x"
      ],
      "metadata": {
        "colab": {
          "base_uri": "https://localhost:8080/"
        },
        "id": "JlWg6-vDoLsC",
        "outputId": "49105c18-eaac-4e40-af52-13754f87b48b"
      },
      "execution_count": null,
      "outputs": [
        {
          "output_type": "execute_result",
          "data": {
            "text/plain": [
              "tensor([[6.3704e-01, 7.3997e-01, 9.1058e-01, 8.6653e-01, 8.9784e-02, 2.7031e-01,\n",
              "         8.6583e-01, 6.3982e-01, 5.0306e-01, 9.5555e-01, 9.7034e-01, 5.5698e-02,\n",
              "         8.7962e-01, 1.5362e-01, 7.8777e-02, 5.9685e-01, 2.7512e-01, 7.7798e-01,\n",
              "         8.8096e-02, 1.2160e-01, 7.7259e-01, 3.8611e-01, 5.5627e-01, 9.6331e-01,\n",
              "         5.0210e-01],\n",
              "        [9.7316e-01, 9.5794e-01, 5.6975e-01, 2.0415e-01, 3.2830e-01, 4.8152e-01,\n",
              "         1.3743e-02, 1.5199e-01, 3.4877e-01, 6.3473e-02, 3.8945e-01, 5.1652e-02,\n",
              "         5.5930e-01, 7.4691e-01, 5.3945e-01, 7.7237e-01, 3.6313e-01, 5.8997e-01,\n",
              "         9.9456e-01, 8.8201e-01, 2.7981e-01, 7.4730e-01, 2.5536e-01, 4.6646e-01,\n",
              "         5.5428e-02],\n",
              "        [7.3213e-01, 1.7055e-02, 3.9112e-01, 3.6385e-01, 7.6769e-01, 7.2931e-01,\n",
              "         1.7355e-01, 2.5236e-01, 8.9368e-01, 2.6101e-01, 4.7262e-01, 6.0257e-01,\n",
              "         1.3428e-01, 7.2967e-01, 4.2532e-01, 7.3457e-01, 8.4768e-01, 4.6952e-01,\n",
              "         7.8739e-01, 4.5845e-01, 8.1966e-01, 3.7307e-01, 6.6268e-01, 5.2643e-02,\n",
              "         3.1209e-01],\n",
              "        [1.9953e-01, 2.8041e-01, 6.2652e-01, 1.3235e-01, 8.0368e-02, 5.6304e-01,\n",
              "         2.8895e-01, 4.0381e-01, 5.5909e-01, 4.1954e-01, 6.7322e-01, 4.3212e-02,\n",
              "         4.5531e-01, 6.9981e-01, 4.0803e-01, 4.8038e-02, 7.3271e-01, 8.0495e-01,\n",
              "         4.0428e-01, 1.6015e-01, 6.4693e-03, 1.1207e-01, 7.6057e-01, 8.1165e-01,\n",
              "         5.4089e-01],\n",
              "        [1.5074e-01, 2.3489e-01, 5.4140e-01, 7.4929e-01, 8.6140e-01, 8.7544e-01,\n",
              "         7.2779e-01, 3.9979e-02, 6.9554e-02, 1.4014e-01, 2.7777e-01, 9.6944e-01,\n",
              "         3.0279e-01, 4.6196e-01, 5.2120e-01, 1.3419e-01, 2.1572e-01, 7.5352e-02,\n",
              "         4.9971e-01, 9.6287e-01, 4.3436e-01, 5.1907e-01, 8.2393e-02, 5.4220e-01,\n",
              "         7.8597e-01],\n",
              "        [9.5745e-01, 7.4361e-01, 9.3710e-01, 5.8167e-01, 3.4459e-01, 6.2662e-04,\n",
              "         1.9591e-01, 5.4693e-01, 7.5611e-01, 1.3416e-01, 3.9540e-01, 3.6499e-01,\n",
              "         3.7001e-01, 7.0284e-01, 4.9017e-01, 6.3223e-01, 9.6423e-01, 7.4685e-01,\n",
              "         4.1813e-01, 4.2094e-01, 3.9061e-01, 1.3475e-01, 4.2347e-01, 7.9528e-01,\n",
              "         1.1818e-01],\n",
              "        [3.6903e-01, 1.2386e-01, 8.0695e-01, 9.0448e-01, 3.8102e-02, 3.6190e-02,\n",
              "         8.9181e-01, 7.6877e-02, 5.6334e-01, 6.3194e-01, 4.4291e-01, 3.6158e-01,\n",
              "         4.9691e-01, 6.9293e-01, 1.3790e-01, 3.0204e-01, 4.8448e-01, 3.8950e-01,\n",
              "         3.9091e-01, 9.1498e-01, 8.1382e-01, 8.7691e-01, 5.0377e-01, 4.8925e-01,\n",
              "         4.5090e-01],\n",
              "        [2.3795e-01, 8.8443e-02, 6.5878e-01, 7.9090e-01, 3.6758e-01, 6.7877e-01,\n",
              "         5.3543e-01, 6.1643e-01, 7.1151e-01, 8.6123e-01, 9.0404e-01, 1.9953e-01,\n",
              "         9.5193e-01, 5.0671e-01, 1.7408e-01, 5.1066e-01, 6.3295e-01, 4.0725e-02,\n",
              "         6.5393e-01, 8.5754e-01, 8.4855e-01, 4.6588e-01, 6.7132e-02, 7.0504e-01,\n",
              "         2.4388e-01],\n",
              "        [3.8719e-01, 9.0769e-01, 1.3849e-01, 4.2020e-01, 7.8406e-01, 8.8324e-01,\n",
              "         7.1387e-01, 5.3543e-01, 3.4137e-01, 1.6492e-01, 9.2825e-01, 3.4634e-01,\n",
              "         1.0428e-01, 8.2643e-01, 3.1480e-01, 7.6713e-01, 4.6525e-01, 4.7918e-01,\n",
              "         4.7048e-02, 2.6015e-01, 2.7517e-01, 6.9046e-01, 1.7501e-01, 9.7434e-02,\n",
              "         4.6048e-01],\n",
              "        [1.8640e-01, 7.5311e-01, 8.1467e-01, 2.8061e-01, 8.6007e-01, 3.0238e-01,\n",
              "         9.9863e-01, 4.3663e-01, 8.1988e-01, 4.6040e-01, 5.6919e-01, 8.7265e-01,\n",
              "         8.2512e-01, 3.2164e-01, 4.9696e-01, 8.5181e-01, 6.9345e-01, 2.9886e-01,\n",
              "         5.6285e-01, 3.6211e-01, 3.6856e-01, 8.3770e-01, 2.0484e-01, 6.3283e-01,\n",
              "         2.4553e-01]])"
            ]
          },
          "metadata": {},
          "execution_count": 71
        }
      ]
    },
    {
      "cell_type": "code",
      "source": [
        "x.shape"
      ],
      "metadata": {
        "colab": {
          "base_uri": "https://localhost:8080/"
        },
        "id": "80ADaRvJqYVJ",
        "outputId": "07322a1d-afbe-4f8f-9b4e-b8b02254b68a"
      },
      "execution_count": null,
      "outputs": [
        {
          "output_type": "execute_result",
          "data": {
            "text/plain": [
              "torch.Size([10, 25])"
            ]
          },
          "metadata": {},
          "execution_count": 73
        }
      ]
    },
    {
      "cell_type": "code",
      "source": [
        "# Get first examples features\n",
        "print(x[0].shape)  # shape [25], this is same as doing x[0,:]"
      ],
      "metadata": {
        "colab": {
          "base_uri": "https://localhost:8080/"
        },
        "id": "HHYnf-bSp6-R",
        "outputId": "7a222a5c-2e3f-4c40-ea8a-45314324f0b1"
      },
      "execution_count": null,
      "outputs": [
        {
          "output_type": "stream",
          "name": "stdout",
          "text": [
            "torch.Size([25])\n"
          ]
        }
      ]
    },
    {
      "cell_type": "code",
      "source": [
        "x[0,:]"
      ],
      "metadata": {
        "colab": {
          "base_uri": "https://localhost:8080/"
        },
        "id": "cWeRUGKXqIvp",
        "outputId": "7e4d2018-4f7b-4104-a8b3-a203170cd2a0"
      },
      "execution_count": null,
      "outputs": [
        {
          "output_type": "execute_result",
          "data": {
            "text/plain": [
              "tensor([0.6370, 0.7400, 0.9106, 0.8665, 0.0898, 0.2703, 0.8658, 0.6398, 0.5031,\n",
              "        0.9556, 0.9703, 0.0557, 0.8796, 0.1536, 0.0788, 0.5969, 0.2751, 0.7780,\n",
              "        0.0881, 0.1216, 0.7726, 0.3861, 0.5563, 0.9633, 0.5021])"
            ]
          },
          "metadata": {},
          "execution_count": 74
        }
      ]
    },
    {
      "cell_type": "code",
      "source": [
        "x[2, 0:10]"
      ],
      "metadata": {
        "colab": {
          "base_uri": "https://localhost:8080/"
        },
        "id": "xq4DHAKTqnfS",
        "outputId": "f1b5b124-d978-4389-985d-16099d7fa4f8"
      },
      "execution_count": null,
      "outputs": [
        {
          "output_type": "execute_result",
          "data": {
            "text/plain": [
              "tensor([0.7321, 0.0171, 0.3911, 0.3638, 0.7677, 0.7293, 0.1736, 0.2524, 0.8937,\n",
              "        0.2610])"
            ]
          },
          "metadata": {},
          "execution_count": 75
        }
      ]
    },
    {
      "cell_type": "code",
      "source": [
        "x[0, 0] = 100"
      ],
      "metadata": {
        "id": "lqv5WyFwrOE5"
      },
      "execution_count": null,
      "outputs": []
    },
    {
      "cell_type": "markdown",
      "source": [
        "Fancy indexing"
      ],
      "metadata": {
        "id": "DfyE8_4Frpcy"
      }
    },
    {
      "cell_type": "code",
      "source": [
        "x = torch.arange(10)\n",
        "x"
      ],
      "metadata": {
        "colab": {
          "base_uri": "https://localhost:8080/"
        },
        "id": "DrOcvobTrn4f",
        "outputId": "27768b4a-c51e-428d-e22e-e9adcd0c0e38"
      },
      "execution_count": null,
      "outputs": [
        {
          "output_type": "execute_result",
          "data": {
            "text/plain": [
              "tensor([0, 1, 2, 3, 4, 5, 6, 7, 8, 9])"
            ]
          },
          "metadata": {},
          "execution_count": 77
        }
      ]
    },
    {
      "cell_type": "code",
      "source": [
        "indices = [2, 5, 8]\n",
        "x[indices]"
      ],
      "metadata": {
        "colab": {
          "base_uri": "https://localhost:8080/"
        },
        "id": "Vbmtt7OertbH",
        "outputId": "f05ecf05-61ef-4e7a-d81e-8ffa9a5f11ff"
      },
      "execution_count": null,
      "outputs": [
        {
          "output_type": "execute_result",
          "data": {
            "text/plain": [
              "tensor([2, 5, 8])"
            ]
          },
          "metadata": {},
          "execution_count": 78
        }
      ]
    },
    {
      "cell_type": "code",
      "source": [
        "x = torch.rand((3, 5))\n",
        "x"
      ],
      "metadata": {
        "colab": {
          "base_uri": "https://localhost:8080/"
        },
        "id": "HglnRykSsEf5",
        "outputId": "b5579a23-ee11-403a-f7f7-74d375894a70"
      },
      "execution_count": null,
      "outputs": [
        {
          "output_type": "execute_result",
          "data": {
            "text/plain": [
              "tensor([[0.2521, 0.4008, 0.1772, 0.0645, 0.2778],\n",
              "        [0.8547, 0.7958, 0.6292, 0.9598, 0.4604],\n",
              "        [0.9105, 0.5266, 0.5074, 0.4271, 0.3535]])"
            ]
          },
          "metadata": {},
          "execution_count": 81
        }
      ]
    },
    {
      "cell_type": "code",
      "source": [
        "rows = torch.tensor([1, 0])\n",
        "cols = torch.tensor([4, 0])\n",
        "x[rows, cols]"
      ],
      "metadata": {
        "colab": {
          "base_uri": "https://localhost:8080/"
        },
        "id": "KFcxlhByrynR",
        "outputId": "acd7ced9-2c11-4cc2-ea92-a273281c3285"
      },
      "execution_count": null,
      "outputs": [
        {
          "output_type": "execute_result",
          "data": {
            "text/plain": [
              "tensor([0.4604, 0.2521])"
            ]
          },
          "metadata": {},
          "execution_count": 82
        }
      ]
    },
    {
      "cell_type": "markdown",
      "source": [
        "More advanced indexing"
      ],
      "metadata": {
        "id": "T35T7FY7sTs6"
      }
    },
    {
      "cell_type": "code",
      "source": [
        "x = torch.arange(10)\n",
        "x"
      ],
      "metadata": {
        "colab": {
          "base_uri": "https://localhost:8080/"
        },
        "id": "zHz373PksB5c",
        "outputId": "8bb19f90-180f-4a75-8cb7-ad652c422011"
      },
      "execution_count": null,
      "outputs": [
        {
          "output_type": "execute_result",
          "data": {
            "text/plain": [
              "tensor([0, 1, 2, 3, 4, 5, 6, 7, 8, 9])"
            ]
          },
          "metadata": {},
          "execution_count": 83
        }
      ]
    },
    {
      "cell_type": "code",
      "source": [
        "x[(x < 2) | (x > 8)] "
      ],
      "metadata": {
        "colab": {
          "base_uri": "https://localhost:8080/"
        },
        "id": "r0zOFQVQsYKI",
        "outputId": "e7286b90-f912-4151-d043-d9af7314dd7a"
      },
      "execution_count": null,
      "outputs": [
        {
          "output_type": "execute_result",
          "data": {
            "text/plain": [
              "tensor([0, 1, 9])"
            ]
          },
          "metadata": {},
          "execution_count": 84
        }
      ]
    },
    {
      "cell_type": "code",
      "source": [
        "x[x.remainder(2) == 0]"
      ],
      "metadata": {
        "colab": {
          "base_uri": "https://localhost:8080/"
        },
        "id": "bBWAKvgqschQ",
        "outputId": "bd3f5b3c-d4ee-4e75-a564-a803cd18c111"
      },
      "execution_count": null,
      "outputs": [
        {
          "output_type": "execute_result",
          "data": {
            "text/plain": [
              "tensor([0, 2, 4, 6, 8])"
            ]
          },
          "metadata": {},
          "execution_count": 85
        }
      ]
    },
    {
      "cell_type": "code",
      "source": [
        "x.remainder(3) == 0"
      ],
      "metadata": {
        "colab": {
          "base_uri": "https://localhost:8080/"
        },
        "id": "hCS93Yx2s74j",
        "outputId": "cd43da8d-0c7a-4e30-c07b-4df67b444801"
      },
      "execution_count": null,
      "outputs": [
        {
          "output_type": "execute_result",
          "data": {
            "text/plain": [
              "tensor([ True, False, False,  True, False, False,  True, False, False,  True])"
            ]
          },
          "metadata": {},
          "execution_count": 86
        }
      ]
    },
    {
      "cell_type": "markdown",
      "source": [
        "Useful operations"
      ],
      "metadata": {
        "id": "J2LIdxddtP37"
      }
    },
    {
      "cell_type": "code",
      "source": [
        "torch.where(x > 5, x, x * 2)\n",
        "#x > 5 return x else return x*2"
      ],
      "metadata": {
        "colab": {
          "base_uri": "https://localhost:8080/"
        },
        "id": "nlsTbIn2tByk",
        "outputId": "8aa1b7d6-be85-4fdd-bdcc-940412642a32"
      },
      "execution_count": null,
      "outputs": [
        {
          "output_type": "execute_result",
          "data": {
            "text/plain": [
              "tensor([ 0,  2,  4,  6,  8, 10,  6,  7,  8,  9])"
            ]
          },
          "metadata": {},
          "execution_count": 87
        }
      ]
    },
    {
      "cell_type": "code",
      "source": [
        "x = torch.tensor([0, 0, 1, 2, 2, 3, 4]).unique()\n",
        "x"
      ],
      "metadata": {
        "colab": {
          "base_uri": "https://localhost:8080/"
        },
        "id": "pyn8FjaJtcBU",
        "outputId": "17a45f86-00c8-4567-8c99-4392e88a3b34"
      },
      "execution_count": null,
      "outputs": [
        {
          "output_type": "execute_result",
          "data": {
            "text/plain": [
              "tensor([0, 1, 2, 3, 4])"
            ]
          },
          "metadata": {},
          "execution_count": 88
        }
      ]
    },
    {
      "cell_type": "code",
      "source": [
        "x.ndimension() # number of dimensions"
      ],
      "metadata": {
        "colab": {
          "base_uri": "https://localhost:8080/"
        },
        "id": "T7TNFJIktzNj",
        "outputId": "e3d55f46-71c2-4837-9529-e620a67ceeda"
      },
      "execution_count": null,
      "outputs": [
        {
          "output_type": "execute_result",
          "data": {
            "text/plain": [
              "1"
            ]
          },
          "metadata": {},
          "execution_count": 89
        }
      ]
    },
    {
      "cell_type": "code",
      "source": [
        "x.numel() # number of elements"
      ],
      "metadata": {
        "colab": {
          "base_uri": "https://localhost:8080/"
        },
        "id": "gxmF3yPVuFj1",
        "outputId": "bdf11d41-09b8-4f97-b0ba-ff4b261bb6f4"
      },
      "execution_count": null,
      "outputs": [
        {
          "output_type": "execute_result",
          "data": {
            "text/plain": [
              "5"
            ]
          },
          "metadata": {},
          "execution_count": 90
        }
      ]
    },
    {
      "cell_type": "markdown",
      "source": [
        "#Tensor Reshaping"
      ],
      "metadata": {
        "id": "3tDs7RXGui-W"
      }
    },
    {
      "cell_type": "code",
      "source": [
        "x = torch.arange(9)\n",
        "x"
      ],
      "metadata": {
        "colab": {
          "base_uri": "https://localhost:8080/"
        },
        "id": "uwbTQFCsuSC3",
        "outputId": "8ea23051-0c5b-489b-ccdd-01089ceb58e8"
      },
      "execution_count": null,
      "outputs": [
        {
          "output_type": "execute_result",
          "data": {
            "text/plain": [
              "tensor([0, 1, 2, 3, 4, 5, 6, 7, 8])"
            ]
          },
          "metadata": {},
          "execution_count": 91
        }
      ]
    },
    {
      "cell_type": "code",
      "source": [
        "# Let's say we want to reshape it to be 3x3\n",
        "x_3x3 = x.view(3, 3)\n",
        "x_3x3"
      ],
      "metadata": {
        "colab": {
          "base_uri": "https://localhost:8080/"
        },
        "id": "aN8sZWevunBG",
        "outputId": "486ecea9-542d-42dd-80aa-65783a79ea82"
      },
      "execution_count": null,
      "outputs": [
        {
          "output_type": "execute_result",
          "data": {
            "text/plain": [
              "tensor([[0, 1, 2],\n",
              "        [3, 4, 5],\n",
              "        [6, 7, 8]])"
            ]
          },
          "metadata": {},
          "execution_count": 92
        }
      ]
    },
    {
      "cell_type": "code",
      "source": [
        "x_3x3 = x.reshape(3, 3)\n",
        "x_3x3"
      ],
      "metadata": {
        "colab": {
          "base_uri": "https://localhost:8080/"
        },
        "id": "6-UkPRuhur6e",
        "outputId": "5a9a4139-c586-43f8-c4d1-6e6279900cea"
      },
      "execution_count": null,
      "outputs": [
        {
          "output_type": "execute_result",
          "data": {
            "text/plain": [
              "tensor([[0, 1, 2],\n",
              "        [3, 4, 5],\n",
              "        [6, 7, 8]])"
            ]
          },
          "metadata": {},
          "execution_count": 93
        }
      ]
    },
    {
      "cell_type": "code",
      "source": [
        "y = x_3x3.t()\n",
        "y"
      ],
      "metadata": {
        "colab": {
          "base_uri": "https://localhost:8080/"
        },
        "id": "3ZS1r0i0u0zW",
        "outputId": "edd3f125-7e6b-4d24-905d-9b67c817c8d5"
      },
      "execution_count": null,
      "outputs": [
        {
          "output_type": "execute_result",
          "data": {
            "text/plain": [
              "tensor([[0, 3, 6],\n",
              "        [1, 4, 7],\n",
              "        [2, 5, 8]])"
            ]
          },
          "metadata": {},
          "execution_count": 94
        }
      ]
    },
    {
      "cell_type": "code",
      "source": [
        "y.is_contiguous()"
      ],
      "metadata": {
        "colab": {
          "base_uri": "https://localhost:8080/"
        },
        "id": "wV-fTN53vbFu",
        "outputId": "7685889e-5a98-43c1-f8e5-2483a96d7b6a"
      },
      "execution_count": null,
      "outputs": [
        {
          "output_type": "execute_result",
          "data": {
            "text/plain": [
              "False"
            ]
          },
          "metadata": {},
          "execution_count": 95
        }
      ]
    },
    {
      "cell_type": "code",
      "source": [
        "x1 = torch.rand(2, 5)\n",
        "x2 = torch.rand(2, 5)\n",
        "x1, x2"
      ],
      "metadata": {
        "colab": {
          "base_uri": "https://localhost:8080/"
        },
        "id": "HiJPtrwSviPQ",
        "outputId": "f23c092b-800a-45f3-e34a-f776e7747035"
      },
      "execution_count": null,
      "outputs": [
        {
          "output_type": "execute_result",
          "data": {
            "text/plain": [
              "(tensor([[0.4807, 0.7088, 0.8628, 0.9527, 0.1524],\n",
              "         [0.2925, 0.0113, 0.6151, 0.2382, 0.5104]]),\n",
              " tensor([[0.5938, 0.7584, 0.1264, 0.5488, 0.2947],\n",
              "         [0.9553, 0.9199, 0.2940, 0.6846, 0.3569]]))"
            ]
          },
          "metadata": {},
          "execution_count": 96
        }
      ]
    },
    {
      "cell_type": "code",
      "source": [
        "z1 = torch.cat((x1, x2), dim = 0) #shape: 4x5\n",
        "z1.shape"
      ],
      "metadata": {
        "colab": {
          "base_uri": "https://localhost:8080/"
        },
        "id": "jtWzJzpmx3ZW",
        "outputId": "d0b38880-39d9-4965-88e4-97b4306b6d2b"
      },
      "execution_count": null,
      "outputs": [
        {
          "output_type": "execute_result",
          "data": {
            "text/plain": [
              "torch.Size([4, 5])"
            ]
          },
          "metadata": {},
          "execution_count": 99
        }
      ]
    },
    {
      "cell_type": "code",
      "source": [
        "z2 = torch.cat((x1, x2), dim = 1) #shape: 2x10\n",
        "z2.shape"
      ],
      "metadata": {
        "colab": {
          "base_uri": "https://localhost:8080/"
        },
        "id": "CQXnQDCNyCqx",
        "outputId": "18a3fc79-1e30-4f0f-a751-e521e0d11001"
      },
      "execution_count": null,
      "outputs": [
        {
          "output_type": "execute_result",
          "data": {
            "text/plain": [
              "torch.Size([2, 10])"
            ]
          },
          "metadata": {},
          "execution_count": 100
        }
      ]
    },
    {
      "cell_type": "code",
      "source": [
        "# Let's say we want to unroll x1 into one long vector with 10 elements, we can do:\n",
        "z = x1.reshape(-1)\n",
        "z"
      ],
      "metadata": {
        "colab": {
          "base_uri": "https://localhost:8080/"
        },
        "id": "NjHVeFopyPm1",
        "outputId": "2dc45b07-00cc-494b-dc4a-b09d4707c243"
      },
      "execution_count": null,
      "outputs": [
        {
          "output_type": "execute_result",
          "data": {
            "text/plain": [
              "tensor([0.4807, 0.7088, 0.8628, 0.9527, 0.1524, 0.2925, 0.0113, 0.6151, 0.2382,\n",
              "        0.5104])"
            ]
          },
          "metadata": {},
          "execution_count": 101
        }
      ]
    },
    {
      "cell_type": "code",
      "source": [
        "batch = 64\n",
        "x = torch.rand((batch, 2, 5))\n",
        "z = x.reshape(batch, -1)\n",
        "z.shape"
      ],
      "metadata": {
        "colab": {
          "base_uri": "https://localhost:8080/"
        },
        "id": "hyUYfCazyqf3",
        "outputId": "52879d18-5e91-4ef1-d13e-06638a69d153"
      },
      "execution_count": null,
      "outputs": [
        {
          "output_type": "execute_result",
          "data": {
            "text/plain": [
              "torch.Size([64, 10])"
            ]
          },
          "metadata": {},
          "execution_count": 102
        }
      ]
    },
    {
      "cell_type": "code",
      "source": [
        "# Let's say we want to switch x axis so that instead of 64x2x5 we have 64x5x2\n",
        "z = x.permute(0, 2, 1)\n",
        "z.shape"
      ],
      "metadata": {
        "colab": {
          "base_uri": "https://localhost:8080/"
        },
        "id": "EEy2MFfozGeY",
        "outputId": "a5f705ac-daaf-4984-c32a-b606ef406845"
      },
      "execution_count": null,
      "outputs": [
        {
          "output_type": "execute_result",
          "data": {
            "text/plain": [
              "torch.Size([64, 5, 2])"
            ]
          },
          "metadata": {},
          "execution_count": 103
        }
      ]
    },
    {
      "cell_type": "code",
      "source": [
        "x = torch.arange(10)\n",
        "x, x.shape"
      ],
      "metadata": {
        "colab": {
          "base_uri": "https://localhost:8080/"
        },
        "id": "JbRPvBXszVn5",
        "outputId": "6efb7af2-9866-4f3f-812f-0bac378e7c67"
      },
      "execution_count": null,
      "outputs": [
        {
          "output_type": "execute_result",
          "data": {
            "text/plain": [
              "(tensor([0, 1, 2, 3, 4, 5, 6, 7, 8, 9]), torch.Size([10]))"
            ]
          },
          "metadata": {},
          "execution_count": 105
        }
      ]
    },
    {
      "cell_type": "code",
      "source": [
        "z = x.unsqueeze(0)\n",
        "z, z.shape"
      ],
      "metadata": {
        "colab": {
          "base_uri": "https://localhost:8080/"
        },
        "id": "Vxi1R92Wzqq_",
        "outputId": "e8382a50-960e-4c51-9e2d-6e7414fd6253"
      },
      "execution_count": null,
      "outputs": [
        {
          "output_type": "execute_result",
          "data": {
            "text/plain": [
              "(tensor([[0, 1, 2, 3, 4, 5, 6, 7, 8, 9]]), torch.Size([1, 10]))"
            ]
          },
          "metadata": {},
          "execution_count": 106
        }
      ]
    },
    {
      "cell_type": "code",
      "source": [
        "z = x.unsqueeze(1)\n",
        "z, z.shape"
      ],
      "metadata": {
        "colab": {
          "base_uri": "https://localhost:8080/"
        },
        "id": "ClyUabye0APo",
        "outputId": "ca3b848f-0b30-4725-eca6-31d6eda4a8fa"
      },
      "execution_count": null,
      "outputs": [
        {
          "output_type": "execute_result",
          "data": {
            "text/plain": [
              "(tensor([[0],\n",
              "         [1],\n",
              "         [2],\n",
              "         [3],\n",
              "         [4],\n",
              "         [5],\n",
              "         [6],\n",
              "         [7],\n",
              "         [8],\n",
              "         [9]]), torch.Size([10, 1]))"
            ]
          },
          "metadata": {},
          "execution_count": 107
        }
      ]
    },
    {
      "cell_type": "code",
      "source": [
        "z = x.unsqueeze(0).unsqueeze(1)\n",
        "z, z.shape"
      ],
      "metadata": {
        "colab": {
          "base_uri": "https://localhost:8080/"
        },
        "id": "xRtjNpp80EBp",
        "outputId": "6f7808ae-14b2-4f48-b634-88b6e99e70df"
      },
      "execution_count": null,
      "outputs": [
        {
          "output_type": "execute_result",
          "data": {
            "text/plain": [
              "(tensor([[[0, 1, 2, 3, 4, 5, 6, 7, 8, 9]]]), torch.Size([1, 1, 10]))"
            ]
          },
          "metadata": {},
          "execution_count": 109
        }
      ]
    },
    {
      "cell_type": "code",
      "source": [
        "y = z.squeeze(1)\n",
        "y, y.shape"
      ],
      "metadata": {
        "colab": {
          "base_uri": "https://localhost:8080/"
        },
        "id": "4GsLnGf40SnR",
        "outputId": "8d962026-4917-4915-fde7-f8b6a37a36ea"
      },
      "execution_count": null,
      "outputs": [
        {
          "output_type": "execute_result",
          "data": {
            "text/plain": [
              "(tensor([[0, 1, 2, 3, 4, 5, 6, 7, 8, 9]]), torch.Size([1, 10]))"
            ]
          },
          "metadata": {},
          "execution_count": 110
        }
      ]
    },
    {
      "cell_type": "code",
      "source": [
        "x = torch.rand((batch, 2, 5))\n",
        "x.shape"
      ],
      "metadata": {
        "colab": {
          "base_uri": "https://localhost:8080/"
        },
        "id": "1fwdZZG-0v3b",
        "outputId": "783bca56-846b-49a2-d55b-341f250ab27f"
      },
      "execution_count": null,
      "outputs": [
        {
          "output_type": "execute_result",
          "data": {
            "text/plain": [
              "torch.Size([64, 2, 5])"
            ]
          },
          "metadata": {},
          "execution_count": 111
        }
      ]
    },
    {
      "cell_type": "code",
      "source": [
        "# Splits x last dimension into chunks of 2 (since 5 is not integer div by 2) the last dimension\n",
        "# will be smaller, so it will split it into two tensors: 64x2x3 and 64x2x2\n",
        "z = torch.chunk(x, chunks=2, dim=1)\n",
        "z[0].shape, z[1].shape"
      ],
      "metadata": {
        "colab": {
          "base_uri": "https://localhost:8080/"
        },
        "id": "V3EcCI1j0c5a",
        "outputId": "95c2737d-cf0f-4a70-da04-f9d35a0c3e25"
      },
      "execution_count": null,
      "outputs": [
        {
          "output_type": "execute_result",
          "data": {
            "text/plain": [
              "(torch.Size([64, 1, 5]), torch.Size([64, 1, 5]))"
            ]
          },
          "metadata": {},
          "execution_count": 117
        }
      ]
    },
    {
      "cell_type": "code",
      "source": [
        ""
      ],
      "metadata": {
        "id": "Rumr4Woc1rhS"
      },
      "execution_count": null,
      "outputs": []
    }
  ]
}